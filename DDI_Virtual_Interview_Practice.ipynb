{
  "cells": [
    {
      "cell_type": "markdown",
      "metadata": {
        "id": "view-in-github",
        "colab_type": "text"
      },
      "source": [
        "<a href=\"https://colab.research.google.com/github/Chelagat-Pauline-Gechure/2025/blob/main/DDI_Virtual_Interview_Practice.ipynb\" target=\"_parent\"><img src=\"https://colab.research.google.com/assets/colab-badge.svg\" alt=\"Open In Colab\"/></a>"
      ]
    },
    {
      "cell_type": "markdown",
      "metadata": {
        "id": "f6XltOMIoTCZ"
      },
      "source": [
        "# **Learn the basics**\n",
        "\n",
        "[Python for Beginners](https://www.learnpython.org/)"
      ]
    },
    {
      "cell_type": "markdown",
      "metadata": {
        "id": "taadI-FdpY-2"
      },
      "source": [
        "## **Variables and Types**"
      ]
    },
    {
      "cell_type": "code",
      "execution_count": null,
      "metadata": {
        "colab": {
          "base_uri": "https://localhost:8080/"
        },
        "id": "sVXMnTBonEVR",
        "outputId": "6712c9a6-0c82-425f-99e2-36d83d29d5d3"
      },
      "outputs": [
        {
          "name": "stdout",
          "output_type": "stream",
          "text": [
            "7\n",
            "7\n",
            "Integer: 20\n"
          ]
        }
      ],
      "source": [
        "# Assigning an integer\n",
        "# Notation 1\n",
        "myint = 7\n",
        "print(myint)\n",
        "\n",
        "#Notation 2\n",
        "myint2 = int(20)\n",
        "print(myint)\n",
        "\n",
        "# Integer test\n",
        "if isinstance(myint2, int) and myint2 == 20:\n",
        "    print(\"Integer: %d\" % myint2)\n",
        "\n",
        "# isinstance(myint, int) ensures that myint is of type int.\n",
        "# myint == 20 checks if the value of myint is equal to 20.\n",
        "# If both conditions are true, prints Integer: 20 using the %d format specifier, which formats the value as an integer."
      ]
    },
    {
      "cell_type": "code",
      "execution_count": null,
      "metadata": {
        "colab": {
          "base_uri": "https://localhost:8080/"
        },
        "id": "n3Mt-ND_muus",
        "outputId": "5b1df337-e229-491c-d38b-268172fb3e1e"
      },
      "outputs": [
        {
          "name": "stdout",
          "output_type": "stream",
          "text": [
            "7.0\n",
            "7.0\n"
          ]
        }
      ],
      "source": [
        "# Assigning a float\n",
        "# Notation 1\n",
        "myfloat = 7.0\n",
        "print(myfloat)\n",
        "\n",
        "#Notation 2\n",
        "myfloat = float(7)\n",
        "print(myfloat)"
      ]
    },
    {
      "cell_type": "code",
      "execution_count": null,
      "metadata": {
        "colab": {
          "base_uri": "https://localhost:8080/"
        },
        "id": "DuCT2_VhnavM",
        "outputId": "e13d2029-bad5-4de8-8943-0f5ea3cdaa87"
      },
      "outputs": [
        {
          "name": "stdout",
          "output_type": "stream",
          "text": [
            "hello\n",
            "hello\n",
            "Don't worry about apostrophes\n"
          ]
        }
      ],
      "source": [
        "# Assigning a string\n",
        "# Notation 1\n",
        "mystring1 = 'hello'\n",
        "print(mystring1)\n",
        "\n",
        "# Notation 2 (Better and advisable)\n",
        "mystring2 = \"hello\"\n",
        "print(mystring2)\n",
        "\n",
        "# The difference between the two is that using double quotes makes it easy to include apostrophes\n",
        "# (whereas these would terminate the string if using single quotes)\n",
        "mystring3 = \"Don't worry about apostrophes\"\n",
        "print(mystring3)"
      ]
    },
    {
      "cell_type": "code",
      "execution_count": null,
      "metadata": {
        "colab": {
          "base_uri": "https://localhost:8080/"
        },
        "id": "wDaeDrMMn_HF",
        "outputId": "bac279c7-237a-4dd2-ccff-5992ab3329cb"
      },
      "outputs": [
        {
          "name": "stdout",
          "output_type": "stream",
          "text": [
            "3 4\n"
          ]
        }
      ],
      "source": [
        "# Assignments can be done on more than one variable \"simultaneously\" on the same line like this\n",
        "a, b = 3, 4\n",
        "print(a, b)"
      ]
    },
    {
      "cell_type": "markdown",
      "metadata": {
        "id": "uXrBTLLvmmtY"
      },
      "source": [
        "## **Lists**:\n",
        "Ordered and changeable & allows duplicate members."
      ]
    },
    {
      "cell_type": "code",
      "execution_count": null,
      "metadata": {
        "colab": {
          "base_uri": "https://localhost:8080/"
        },
        "id": "rXOCkjDEpcr7",
        "outputId": "b443eea2-51ec-4165-a8bd-f3482db1b97b"
      },
      "outputs": [
        {
          "name": "stdout",
          "output_type": "stream",
          "text": [
            "<class 'list'>\n",
            "['pink primrose', 'hard-leaved pocket orchid', 'canterbury bells', 'sweet pea', 'english marigold', 'tiger lily', 'moon orchid', 'bird of paradise', 'monkshood', 'globe thistle']\n"
          ]
        }
      ],
      "source": [
        "flowers_list = [\"pink primrose\", \"hard-leaved pocket orchid\", \"canterbury bells\", \"sweet pea\", \"english marigold\", \"tiger lily\", \"moon orchid\", \"bird of paradise\", \"monkshood\", \"globe thistle\"]\n",
        "\n",
        "print(type(flowers_list))\n",
        "print(flowers_list)"
      ]
    },
    {
      "cell_type": "code",
      "execution_count": null,
      "metadata": {
        "colab": {
          "base_uri": "https://localhost:8080/"
        },
        "id": "xOP5XbBAsLYH",
        "outputId": "1fb45c4b-a69e-40e9-9b97-a920805b5281"
      },
      "outputs": [
        {
          "name": "stdout",
          "output_type": "stream",
          "text": [
            "First entry: pink primrose\n",
            "Second entry: hard-leaved pocket orchid\n",
            "Last entry: globe thistle\n",
            "First three ['pink primrose', 'hard-leaved pocket orchid', 'canterbury bells']\n",
            "First three ['pink primrose', 'hard-leaved pocket orchid', 'canterbury bells']\n",
            "Last two []\n",
            "Last two ['monkshood', 'globe thistle']\n",
            "['pink primrose', 'hard-leaved pocket orchid', 'canterbury bells', 'sweet pea', 'english marigold', 'tiger lily', 'moon orchid', 'bird of paradise', 'monkshood', 'snapdragon']\n"
          ]
        }
      ],
      "source": [
        "# Length of a list\n",
        "len(flowers_list)\n",
        "\n",
        "# Indexing a list: refering to an item in the lsit according to positin\n",
        "print(\"First entry:\", flowers_list[0])\n",
        "print(\"Second entry:\", flowers_list[1])\n",
        "print(\"Last entry:\", flowers_list[-1]) # Counting from the end of the list\n",
        "\n",
        "# Slicing a list: pulling a segment of the list\n",
        "print(\"First three\", flowers_list[0:3])\n",
        "print(\"First three\", flowers_list[:3])\n",
        "\n",
        "print(\"Last two\", flowers_list[-2:0]) # Returns an empty list because slicing works from left to right. 0 reps the first item in the list\n",
        "print(\"Last two\", flowers_list[-2:])\n",
        "\n",
        "# Removing items : .remove\n",
        "flowers_list.remove(\"globe thistle\")\n",
        "\n",
        "# Adding items: .append (only one item)\n",
        "flowers_list.append(\"snapdragon\")\n",
        "print(flowers_list)\n"
      ]
    },
    {
      "cell_type": "code",
      "execution_count": null,
      "metadata": {
        "colab": {
          "base_uri": "https://localhost:8080/"
        },
        "id": "9gKHK63Eu_vo",
        "outputId": "44e2eaa2-fbc5-4a48-d886-c58ab9172c02"
      },
      "outputs": [
        {
          "name": "stdout",
          "output_type": "stream",
          "text": [
            "Minimum: 128\n",
            "Maximum: 191\n",
            "Average: 158.14285714285714\n",
            "Sum of first 5 books: 769\n"
          ]
        }
      ],
      "source": [
        "# Lists and arithmetics\n",
        "hardcover_sales = [139, 128, 172, 139, 191, 168, 170]\n",
        "\n",
        "print(\"Minimum:\", min(hardcover_sales))\n",
        "print(\"Maximum:\", max(hardcover_sales))\n",
        "print(\"Average:\", sum(hardcover_sales)/len(hardcover_sales))\n",
        "print(\"Sum of first 5 books:\", sum(hardcover_sales[:5]))"
      ]
    },
    {
      "cell_type": "code",
      "execution_count": null,
      "metadata": {
        "colab": {
          "base_uri": "https://localhost:8080/"
        },
        "id": "qBX3JGoGvnpy",
        "outputId": "4c78c66a-4ea7-4e41-a157-6bd075f8190b"
      },
      "outputs": [
        {
          "name": "stdout",
          "output_type": "stream",
          "text": [
            "['A', 'B', 'C', 'D', 'E', 'F', 'G', 'H', 'I', 'J', 'K', 'L', 'M', 'N', 'O', 'P', 'Q', 'R', 'S', 'T', 'U', 'V', 'W', 'X', 'Y', 'Z']\n",
            "['Mr. H. Potter', 'The cupboard under the Stairs', '4 Privet Drive', 'Little Whinging', 'Surrey']\n"
          ]
        }
      ],
      "source": [
        "# String to list: .split\n",
        "# DO not change: Define two Python strings\n",
        "alphabet = \"A.B.C.D.E.F.G.H.I.J.K.L.M.N.O.P.Q.R.S.T.U.V.W.X.Y.Z\"\n",
        "address = \"Mr. H. Potter,The cupboard under the Stairs,4 Privet Drive,Little Whinging,Surrey\"\n",
        "\n",
        "# TODO: Convert strings into Python lists\n",
        "letters = alphabet.split(\".\")\n",
        "formatted_address = address.split(\",\")\n",
        "\n",
        "print(letters)\n",
        "print(formatted_address)\n"
      ]
    },
    {
      "cell_type": "code",
      "execution_count": null,
      "metadata": {
        "colab": {
          "base_uri": "https://localhost:8080/"
        },
        "id": "e48gl2Le4yzD",
        "outputId": "24bc5dc6-23c7-4444-b296-480b158205fa"
      },
      "outputs": [
        {
          "name": "stdout",
          "output_type": "stream",
          "text": [
            "0.03629533421163837\n",
            "0.6615639847417742\n"
          ]
        }
      ],
      "source": [
        "# Say you're doing analytics for a website. You need to write a function that returns the percentage growth in the total number of users relative to a specified number of years ago.\n",
        "\n",
        "# Your function percentage_growth() should take two arguments as input:\n",
        "\n",
        "# num_users = Python list with the total number of users each year. So num_users[0] is the total number of users in the first year, num_users[1] is the total number of users in the second year, and so on. The final entry in the list gives the total number of users in the most recently completed year.\n",
        "# yrs_ago = number of years to go back in time when calculating the growth percentage\n",
        "# For instance, say num_users = [920344, 1043553, 1204334, 1458996, 1503323, 1593432, 1623463, 1843064, 1930992, 2001078].\n",
        "\n",
        "# if yrs_ago = 1, we want the function to return a value of about 0.036. This corresponds to a percentage growth of approximately 3.6%, calculated as (2001078 - 1930992)/1930992.\n",
        "# if years_ago = 7, we would want to return approximately 0.66. This corresponds to a percentage growth of approximately 66%, calculated as (2001078 - 1204334)/1204334.\n",
        "# Your coworker sent you a draft of a function, but it doesn't seem to be doing the correct calculation. Can you figure out what has gone wrong and make the needed changes?\n",
        "\n",
        "# TODO: Edit the function\n",
        "def percentage_growth(num_users, yrs_ago):\n",
        "    growth = (num_users[len(num_users)-1] - num_users[len(num_users)-yrs_ago-1])/num_users[len(num_users)-yrs_ago-1]\n",
        "    return growth\n",
        "\n",
        "# Do not change: Variable for calculating some test examples\n",
        "num_users_test = [920344, 1043553, 1204334, 1458996, 1503323, 1593432, 1623463, 1843064, 1930992, 2001078]\n",
        "\n",
        "# Do not change: Should return .036\n",
        "print(percentage_growth(num_users_test, 1))\n",
        "\n",
        "# Do not change: Should return 0.66\n",
        "print(percentage_growth(num_users_test, 7))\n"
      ]
    },
    {
      "cell_type": "code",
      "execution_count": null,
      "metadata": {
        "colab": {
          "base_uri": "https://localhost:8080/"
        },
        "id": "6-zwcRXY5kCY",
        "outputId": "1d53e9de-6ef8-4fa0-b6f3-b3a8b95a7ea1"
      },
      "outputs": [
        {
          "name": "stdout",
          "output_type": "stream",
          "text": [
            "Squared: [100, 400, 900, 1600, 2025]\n",
            "Even_numbers: [10, 20, 30, 40]\n",
            "Odd_numbers: [45]\n",
            "Multiplied: [20, 40, 60, 80, 90]\n",
            "Zipped: [(10, 20, 100), (20, 40, 400), (30, 60, 900), (40, 80, 1600), (45, 90, 2025)]\n",
            "[10, 20, 30, 40, 45]\n",
            "[10, 20, 30, 40, 45]\n",
            "[45, 40, 30, 20, 10]\n",
            "[10, 20, 30, 40, 45, 50, 60, 70]\n"
          ]
        }
      ],
      "source": [
        "data = [10, 20, 30, 40, 45]\n",
        "\n",
        "# List comprehension: filter or transform elements in a list.\n",
        "squared = [x**2 for x in data]\n",
        "print(\"Squared:\", squared)\n",
        "\n",
        "# Filtering elements based on a condition: filter()\n",
        "even_numbers = list(filter(lambda x:x % 2 == 0, data))\n",
        "print(\"Even_numbers:\", even_numbers)\n",
        "\n",
        "# Filtering elements based on a condition: filter()\n",
        "odd_numbers = list(filter(lambda x:x % 2 != 0, data))\n",
        "print(\"Odd_numbers:\", odd_numbers)\n",
        "\n",
        "# 3. Aggregation and Transformation\n",
        "# Applying a function to all elements in a list\n",
        "multiplied = list(map(lambda x: x*2, data))\n",
        "print(\"Multiplied:\", multiplied)\n",
        "\n",
        "# Combining different list element wise\n",
        "zipped = list(zip(data, multiplied, squared))\n",
        "print(\"Zipped:\", zipped)\n",
        "\n",
        "\n",
        "# Sorting\n",
        "data.sort()\n",
        "print(data)\n",
        "\n",
        "print(sorted(data))\n",
        "print(sorted(data, reverse=True))\n",
        "\n",
        "# Modifying items\n",
        "data.append(50)\n",
        "data.extend([60, 70])\n",
        "print(data)\n",
        "\n",
        "#\n",
        "reversed(data)"
      ]
    },
    {
      "cell_type": "code",
      "execution_count": null,
      "metadata": {
        "colab": {
          "base_uri": "https://localhost:8080/"
        },
        "id": "xLB77IvfOYHP",
        "outputId": "f24a1672-5329-4251-ecb1-b8ceac778b31"
      },
      "outputs": [
        {
          "output_type": "stream",
          "name": "stdout",
          "text": [
            "['apple', 'watermelon', 'blackcurrant', 'orange', 'kiwi', 'mango']\n",
            "['apple', 'sugarcane', 'tomato', 'blackcurrant', 'orange', 'kiwi', 'mango']\n",
            "['apple', 'banana', 'watermelon', 'cherry']\n",
            "['apple', 'banana', 'watermelon', 'cherry']\n",
            "['apple', 'banana', 'watermelon', 'cherry']\n",
            "['apple', 'banana', 'watermelon', 'cherry']\n"
          ]
        }
      ],
      "source": [
        "# Changing list items\n",
        "# Change a Range of Item Values\n",
        "thislist = [\"apple\", \"banana\", \"cherry\", \"orange\", \"kiwi\", \"mango\"]\n",
        "thislist[1:3] = [\"watermelon\", \"blackcurrant\"]\n",
        "print(thislist)\n",
        "\n",
        "\n",
        "thislist[1:2] = [\"sugarcane\", \"tomato\"]\n",
        "print(thislist)\n",
        "\n",
        "# Inserting Items\n",
        "thislist = [\"apple\", \"banana\", \"cherry\"]\n",
        "thislist.insert(2, \"watermelon\")\n",
        "print(thislist)\n",
        "\n",
        "# Copying\n",
        "\n",
        "# with the copy() method:\n",
        "myfruits = thislist.copy()\n",
        "print(myfruits)\n",
        "\n",
        "# with the list() method:\n",
        "myfruits = list(thislist)\n",
        "print(myfruits)\n",
        "\n",
        "# with the : operator:\n",
        "myfruits = thislist[:]\n",
        "print(myfruits)"
      ]
    },
    {
      "cell_type": "markdown",
      "metadata": {
        "id": "iC1PoxNpPfGF"
      },
      "source": [
        "**Basic Operations**\n",
        "\n",
        "len(): Returns the number of elements in the list.\n",
        "\n",
        "min() / max(): Finds the smallest/largest element in the list.\n",
        "\n",
        "sum(): Calculates the sum of all numerical elements in the list.\n",
        "\n",
        "\n",
        "Accessing Elements\n",
        "Indexing: Access a specific element using list[index].\n",
        "Slicing: Extract a subset using list[start:end:step].\n",
        "Modifying Lists\n",
        "append(x): Adds a single element x to the end of the list.\n",
        "extend(iterable): Adds all elements of an iterable (e.g., another list) to the list.\n",
        "insert(index, x): Inserts x at the specified index.\n",
        "remove(x): Removes the first occurrence of the element x.\n",
        "pop(index): Removes and returns the element at the specified index.\n",
        "clear(): Removes all elements from the list.\n",
        "\n",
        "\n",
        "Transforming Lists\n",
        "list comprehension:\n",
        "Creates a new list based on an existing list.\n",
        "Example: [x**2 for x in data]\n",
        "map(function, iterable): Applies a function to each element.\n",
        "filter(function, iterable): Filters elements based on a condition.\n",
        "Reordering and Searching\n",
        "sort(): Sorts the list in place.\n",
        "sorted(iterable): Returns a sorted copy of the list.\n",
        "reverse(): Reverses the list in place.\n",
        "reversed(iterable): Returns a reversed iterator.\n",
        "index(x): Returns the first index of the element x.\n",
        "count(x): Counts occurrences of x in the list.\n",
        "\n",
        "\n",
        "Combining and Iterating\n",
        "zip(*iterables): Combines elements from multiple iterables into tuples.\n",
        "enumerate(iterable): Returns pairs of index and element while iterating.\n",
        "Concatenation: Combine lists using +.\n",
        "Replication: Repeat elements using *.\n",
        "Logical Operations\n",
        "any(iterable): Returns True if at least one element is True.\n",
        "all(iterable): Returns True if all elements are True.\n",
        "\n",
        "\n",
        "Advanced Techniques\n",
        "Flattening Lists:\n",
        "Example: [item for sublist in nested for item in sublist]\n",
        "Removing Duplicates:\n",
        "Use list(set(data)).\n"
      ]
    },
    {
      "cell_type": "markdown",
      "source": [
        "## **Tuples**:\n",
        "\n",
        "Collection of ordered, unchangeable, and allow duplicate values.\n",
        "\n"
      ],
      "metadata": {
        "id": "KG4FQ9lLXvTh"
      }
    },
    {
      "cell_type": "code",
      "source": [
        "thistuple = (\"apple\", \"banana\", \"cherry\", \"apple\", \"cherry\")\n",
        "print(thistuple)\n",
        "\n",
        "print(len(thistuple))\n",
        "\n",
        "# creating tuple with one item\n",
        "thistuple = (\"apple\", )\n",
        "print(thistuple)\n",
        "\n",
        "tuple1 = (\"apple\", \"banana\", \"cherry\")\n",
        "tuple2 = (1, 5, 7, 9, 3)\n",
        "tuple3 = (True, False, False)\n",
        "print(tuple1, tuple2, tuple3)\n",
        "\n",
        "type(tuple1)\n",
        "\n",
        "# The tuple() Constructor\n",
        "anothertuple = tuple((\"apple\", \"banana\", \"cherry\"))\n",
        "print(anothertuple)"
      ],
      "metadata": {
        "colab": {
          "base_uri": "https://localhost:8080/"
        },
        "id": "lkRAl1_NYQjQ",
        "outputId": "01f5a20a-63e9-49ee-8633-f65004c167a3"
      },
      "execution_count": null,
      "outputs": [
        {
          "output_type": "stream",
          "name": "stdout",
          "text": [
            "('apple', 'banana', 'cherry', 'apple', 'cherry')\n",
            "5\n",
            "('apple',)\n",
            "('apple', 'banana', 'cherry') (1, 5, 7, 9, 3) (True, False, False)\n",
            "('apple', 'banana', 'cherry')\n"
          ]
        }
      ]
    },
    {
      "cell_type": "markdown",
      "source": [
        "## **Sets**:\n",
        "\n",
        "Unordered, unchangeable*,unindexed & no duplicates"
      ],
      "metadata": {
        "id": "tL3NSE-uZd7c"
      }
    },
    {
      "cell_type": "code",
      "source": [
        "thiset = { \"apple\", \"banana\", \"cherry\"}\n",
        "print(len(thiset))\n",
        "\n",
        "\n",
        "anotherset = set((\"apple\", \"banana\", \"cherry\"))\n",
        "print(anotherset)\n",
        "\n",
        "# Accessing items\n",
        "# Looping through  the set\n",
        "for x in anotherset:\n",
        "  print(x)\n",
        "\n",
        "# Checking if an item is present or not\n",
        "print(\"cherry\" in anotherset)\n",
        "print(\"tomato\" not in anotherset)\n",
        "\n",
        "# ADDING SET ITEMS\n",
        "anotherset.add(\"orange\")\n",
        "print(anotherset)\n",
        "\n",
        "# Adding another whole set\n",
        "tropical = {\"pineapple\", \"mango\", \"papaya\"}\n",
        "anotherset.update(tropical)\n",
        "print(anotherset)\n",
        "\n",
        "# Adding other elements\n",
        "mylist = [\"kiwi\", \"orange\"]\n",
        "anotherset.update(mylist)\n",
        "print(anotherset)\n",
        "\n",
        "# Remove items\n",
        "anotherset.remove(\"banana\")\n",
        "print(anotherset) # If the item to remove does not exist, remove() will raise an error.\n",
        "anotherset.discard(\"cherry\")\n",
        "print(anotherset)\n",
        "\n",
        "x = anotherset.pop()\n",
        "print(x)\n",
        "print(anotherset)\n",
        "\n",
        "anotherset.clear()\n",
        "print(anotherset)"
      ],
      "metadata": {
        "id": "alAXH63dZj74",
        "colab": {
          "base_uri": "https://localhost:8080/"
        },
        "outputId": "6e53b7a8-2b6f-4886-ef57-1ea274c87586"
      },
      "execution_count": null,
      "outputs": [
        {
          "output_type": "stream",
          "name": "stdout",
          "text": [
            "3\n",
            "{'apple', 'cherry', 'banana'}\n",
            "apple\n",
            "cherry\n",
            "banana\n",
            "True\n",
            "True\n",
            "{'apple', 'cherry', 'banana', 'orange'}\n",
            "{'pineapple', 'orange', 'mango', 'banana', 'papaya', 'apple', 'cherry'}\n",
            "{'pineapple', 'orange', 'mango', 'banana', 'papaya', 'apple', 'cherry', 'kiwi'}\n",
            "{'pineapple', 'orange', 'mango', 'papaya', 'apple', 'cherry', 'kiwi'}\n",
            "{'pineapple', 'orange', 'mango', 'papaya', 'apple', 'kiwi'}\n",
            "pineapple\n",
            "{'orange', 'mango', 'papaya', 'apple', 'kiwi'}\n",
            "set()\n"
          ]
        }
      ]
    },
    {
      "cell_type": "code",
      "source": [
        "# LOOP SETS\n",
        "thisset = {\"today\", \"tomorrow\", \"yesterday\"}\n",
        "for x in thisset:\n",
        "  print(x)\n",
        "\n",
        "# JOINING SETS\n",
        "set1 = {\"tom\", \"mary\", \"jane\"}\n",
        "set2 = {\"jerry\", \"john\", \"peter\"}\n",
        "\n",
        "set3 = set1.union(set2)\n",
        "print(set3)\n",
        "\n",
        "set4 = {\"Elena\", \"Hellen\"}\n",
        "myset = set1.union(set1, set2, set4)\n",
        "print(myset)\n",
        "\n",
        "myotherset = set1 | set2 | set4 # NB Only for sets\n",
        "print(myotherset)\n",
        "\n",
        "# Joining with tuples, lists etc\n",
        "tuple1 = (1,2,3,4)\n",
        "settuple = set1.union(set2, tuple1)\n",
        "print(settuple)\n",
        "\n",
        "# Intersection & difference\n",
        "set1 = {\"apple\", \"banana\", \"cherry\"}\n",
        "set2 = {\"google\", \"microsoft\", \"apple\"}\n",
        "\n",
        "set3 = set1.intersection(set2)\n",
        "print(\"Intersetion set:\", set3)\n",
        "# or\n",
        "set4 = set1&set2\n",
        "print(\"& set:\", set4)\n",
        "# update\n",
        "set1.intersection_update(set2)\n",
        "print(\"Intersection update:\", set1)\n",
        "\n",
        "\n",
        "set5 = set1.difference(set2)\n",
        "print(\"Difference:\", set5)\n",
        "# or\n",
        "set6 = set1-set2\n",
        "print(\"Set6:\", set6)\n"
      ],
      "metadata": {
        "colab": {
          "base_uri": "https://localhost:8080/"
        },
        "id": "gcTQaMjugotE",
        "outputId": "f37f0b8a-a69d-468a-caee-556618a40ca9"
      },
      "execution_count": null,
      "outputs": [
        {
          "output_type": "stream",
          "name": "stdout",
          "text": [
            "yesterday\n",
            "tomorrow\n",
            "today\n",
            "{'peter', 'john', 'jerry', 'tom', 'mary', 'jane'}\n",
            "{'peter', 'Elena', 'john', 'Hellen', 'jerry', 'tom', 'mary', 'jane'}\n",
            "{'peter', 'Elena', 'john', 'Hellen', 'jerry', 'tom', 'mary', 'jane'}\n",
            "{1, 2, 3, 4, 'jerry', 'peter', 'jane', 'john', 'mary', 'tom'}\n",
            "Intersetion set: {'apple'}\n",
            "& set: {'apple'}\n",
            "Intersection update: {'apple'}\n",
            "Difference: set()\n",
            "Set6: set()\n"
          ]
        }
      ]
    },
    {
      "cell_type": "markdown",
      "source": [
        "Functions (general-purpose operations that aren’t tied to specific objects)\n",
        "\n",
        "Methods (inherently belong to an object or class.)\n",
        "*   .add() - adding new items\n",
        "*   .update - add a whole set/list/dictionary\n",
        "*   .remove()/.discard() - remove items\n",
        "*   .pop() - remove random items\n",
        "*   .clear() - empty set\n",
        "*   .union()/.update() - joins all items from sets\n",
        "*   .intersection() - keeps only duplicates (any data type)\n",
        "*   & - intersect only sets\n",
        "*   .intersection_update() - keeps only duplicates but changes original set instead\n",
        "*   .union()/.update() - joins all items from sets\n",
        "*   .difference() - keeps items in 1st set not in other set(s)\n",
        "*   .symmetric_difference() - keeps all items EXCEPT duplicates\n",
        "\n",
        "\n",
        "\n",
        "\n",
        "\n",
        "\n"
      ],
      "metadata": {
        "id": "NBmZkfs1e8L7"
      }
    },
    {
      "cell_type": "markdown",
      "source": [
        "## **Dictionaries**:\n",
        "\n",
        "Ordered, changeable, and do not allow duplicates.\n"
      ],
      "metadata": {
        "id": "4n7SHI8bxd4i"
      }
    },
    {
      "cell_type": "code",
      "source": [
        "thisdict = {\n",
        "  \"brand\": \"Ford\",\n",
        "  \"model\": \"Mustang\",\n",
        "  \"year\": 1964,\n",
        "  \"year\": 2020 # duplicates overwrite\n",
        "}\n",
        "print(thisdict)\n",
        "\n",
        "len(thisdict)\n",
        "\n",
        "# Accessing items\n",
        "model = thisdict[\"model\"]\n",
        "print(model)\n",
        "#or\n",
        "model = thisdict.get(\"model\")\n",
        "print(\"Get method:\", model)\n",
        "\n",
        "# Get the keys\n",
        "keys = thisdict.keys()\n",
        "print(\"Just keys:\", keys)\n",
        "\n",
        "# Get the values\n",
        "values = thisdict.values()\n",
        "print(\"Just values:\", values)\n",
        "\n",
        "# Adding a new key:value\n",
        "car = thisdict\n",
        "car[\"color\"] = \"red\"\n",
        "print(car)\n",
        "\n",
        "# Getting items\n",
        "items = car.items()\n",
        "print(items)\n",
        "\n",
        "# Checking if key exists\n",
        "if \"model\" in car:\n",
        "  print (\"Yes\")\n",
        "\n",
        "# Change values\n",
        "car[\"year\"] = 2018\n",
        "print(car)\n",
        "\n",
        "# Update dict\n",
        "car.update({\"color\" : \"blue\"})\n",
        "print(\"Updated car color:\", car)\n",
        "\n",
        "# Add items\n",
        "car.update({\"make\" : \"toyota\"})\n",
        "print(\"Added brand:\", car)\n",
        "\n",
        "# Remove items\n",
        "car.pop(\"color\")\n",
        "print(\"Removed color:\", car)\n",
        "\n",
        "# Remove last item\n",
        "car.popitem()\n",
        "print(\"Removed last item:\", car)\n",
        "\n",
        "\n",
        "# Delete the dict\n",
        "# del car\n",
        "# print(car) # this will cause an error because \"car\" no longer exists.\n",
        "\n",
        "# # Clear dict\n",
        "# car.clear()\n",
        "# print(car)\n",
        "\n",
        "# LOOPS DICTIONARIES\n",
        "print(\"Looping dictionaries start here\")\n",
        "for x in car:\n",
        "  print(x) # print keys only\n",
        "# or\n",
        "for x in car.keys():\n",
        "  print(x)\n",
        "\n",
        "for x in car:\n",
        "  print(car[x]) #print values only\n",
        "# or\n",
        "for x in car.values():\n",
        "  print(x)\n",
        "\n",
        "for x,y in car.items():\n",
        "  print(x,y) # print key & value pairs\n",
        "\n",
        "# COPY DICT\n",
        "mycar = car.copy()\n",
        "print(mycar)\n",
        "\n",
        "# NESTED DICT\n",
        "myfamily = {\n",
        "    \"mother\": {\n",
        "        \"name\": \"rose\",\n",
        "        \"age\" : 50,\n",
        "        \"gender\": \"female\"\n",
        "    },\n",
        "    \"sister\": {\n",
        "        \"name\": \"Jane\",\n",
        "        \"age\": 25,\n",
        "        \"gender\": \"female\"\n",
        "    }\n",
        "}\n",
        "print(myfamily)\n",
        "\n",
        "# or\n",
        "child1 = {\"name\": \"Joy\", \"age\": 20}\n",
        "child2 = {\"name\" : \"Peter\", \"age\": 18}\n",
        "child3 = {\"name\": \"James\", \"age\": 15}\n",
        "children = {\n",
        "    \"child1\": child1,\n",
        "    \"child2\": child2,\n",
        "    \"child3\": child3\n",
        "}\n",
        "print(children)\n",
        "\n",
        "# Accessing items in nested dict\n",
        "print(\"Name of 1st child:\", children[\"child1\"][\"name\"])\n",
        "\n",
        "# Looping through nested dictionaries\n",
        "for x, obj in children.items():\n",
        "  print(x)\n",
        "\n",
        "  for y in obj:\n",
        "    print(y, obj[y])\n",
        "\n",
        "for x, obj in children.items():\n",
        "  print(x, obj)"
      ],
      "metadata": {
        "colab": {
          "base_uri": "https://localhost:8080/"
        },
        "id": "81l6L5Jgx1Kc",
        "outputId": "2301321f-ad2a-49a6-b73e-6544ec0d2f56"
      },
      "execution_count": null,
      "outputs": [
        {
          "output_type": "stream",
          "name": "stdout",
          "text": [
            "{'brand': 'Ford', 'model': 'Mustang', 'year': 2020}\n",
            "Mustang\n",
            "Get method: Mustang\n",
            "Just keys: dict_keys(['brand', 'model', 'year'])\n",
            "Just values: dict_values(['Ford', 'Mustang', 2020])\n",
            "{'brand': 'Ford', 'model': 'Mustang', 'year': 2020, 'color': 'red'}\n",
            "dict_items([('brand', 'Ford'), ('model', 'Mustang'), ('year', 2020), ('color', 'red')])\n",
            "Yes\n",
            "{'brand': 'Ford', 'model': 'Mustang', 'year': 2018, 'color': 'red'}\n",
            "Updated car color: {'brand': 'Ford', 'model': 'Mustang', 'year': 2018, 'color': 'blue'}\n",
            "Added brand: {'brand': 'Ford', 'model': 'Mustang', 'year': 2018, 'color': 'blue', 'make': 'toyota'}\n",
            "Removed color: {'brand': 'Ford', 'model': 'Mustang', 'year': 2018, 'make': 'toyota'}\n",
            "Removed last item: {'brand': 'Ford', 'model': 'Mustang', 'year': 2018}\n",
            "Looping dictionaries start here\n",
            "brand\n",
            "model\n",
            "year\n",
            "brand\n",
            "model\n",
            "year\n",
            "Ford\n",
            "Mustang\n",
            "2018\n",
            "Ford\n",
            "Mustang\n",
            "2018\n",
            "brand Ford\n",
            "model Mustang\n",
            "year 2018\n",
            "{'brand': 'Ford', 'model': 'Mustang', 'year': 2018}\n",
            "{'mother': {'name': 'rose', 'age': 50, 'gender': 'female'}, 'sister': {'name': 'Jane', 'age': 25, 'gender': 'female'}}\n",
            "{'child1': {'name': 'Joy', 'age': 20}, 'child2': {'name': 'Peter', 'age': 18}, 'child3': {'name': 'James', 'age': 15}}\n",
            "Name of 1st child: Joy\n",
            "child1\n",
            "name Joy\n",
            "age 20\n",
            "child2\n",
            "name Peter\n",
            "age 18\n",
            "child3\n",
            "name James\n",
            "age 15\n",
            "child1 {'name': 'Joy', 'age': 20}\n",
            "child2 {'name': 'Peter', 'age': 18}\n",
            "child3 {'name': 'James', 'age': 15}\n"
          ]
        }
      ]
    },
    {
      "cell_type": "code",
      "source": [
        "thisdict = dict(name = \"John\", age = 35, country = \"Kenya\", gender = \"Male\")"
      ],
      "metadata": {
        "colab": {
          "base_uri": "https://localhost:8080/"
        },
        "id": "mrY3rcWAyNx4",
        "outputId": "b1e74c5f-fc49-4aa7-f048-df1812a520ab"
      },
      "execution_count": null,
      "outputs": [
        {
          "output_type": "stream",
          "name": "stdout",
          "text": [
            "{'name': 'John', 'age': 35, 'country': 'Kenya', 'gender': 'Male'}\n"
          ]
        }
      ]
    },
    {
      "cell_type": "markdown",
      "source": [
        "Functions\n",
        "\n",
        "*   del - deletes entire dict & removes from memory\n",
        "\n",
        "Methods\n",
        "*   .get() - access items\n",
        "*   .keys() - list of all keys in dict\n",
        "*   .values() - list of all values in dict\n",
        "*   .items() - item in a dict as tuples in a list\n",
        "*   .update() - add/update dict with given arguments\n",
        "*   .pop() - remove item with specified key name\n",
        "*   .popitem() - remove the last inserted item\n",
        "*   .clear() - empties dictionary but still exists in memory\n"
      ],
      "metadata": {
        "id": "VrouBAU00ul9"
      }
    },
    {
      "cell_type": "code",
      "source": [],
      "metadata": {
        "id": "yEzm8Ozk3WI7"
      },
      "execution_count": null,
      "outputs": []
    },
    {
      "cell_type": "code",
      "source": [],
      "metadata": {
        "id": "g-MU9hZO3WFh"
      },
      "execution_count": null,
      "outputs": []
    },
    {
      "cell_type": "markdown",
      "source": [
        "## **String formating**\n"
      ],
      "metadata": {
        "id": "Nmen7vG8VZ3F"
      }
    },
    {
      "cell_type": "code",
      "source": [
        "# This prints out \"Hello John\"\n",
        "name = \"John\"\n",
        "print(\"Hello %s\" % name)\n",
        "\n",
        "# Two or more arguments\n",
        "firstname = \"John\"\n",
        "secondname = \"Maina\"\n",
        "print(\"Good morning %s %s\" % (firstname, secondname))\n",
        "\n",
        "#\n",
        "mylist = [1,2,3]\n",
        "print(\"A list: %s\" % mylist)\n",
        "\n",
        "# Exercise\n",
        "data = (\"John\", \"Doe\", 53.44)\n",
        "format_string = \"Hello %s %s. Your current balance is $%f\"\n",
        "print(format_string % data)"
      ],
      "metadata": {
        "colab": {
          "base_uri": "https://localhost:8080/"
        },
        "id": "XZ86cZJCVigO",
        "outputId": "c8c2faff-1ae8-40d9-e9b7-03d2a32e6934"
      },
      "execution_count": null,
      "outputs": [
        {
          "output_type": "stream",
          "name": "stdout",
          "text": [
            "Hello John\n",
            "Good morning John Maina\n",
            "A list: [1, 2, 3]\n",
            "Hello John Doe. Your current balance is $53.440000\n"
          ]
        }
      ]
    },
    {
      "cell_type": "code",
      "source": [
        "# F string\n",
        "myage = 28\n",
        "height = 1.6789\n",
        "print(f\"My name is Chela and I'm {myage}\")\n",
        "\n",
        "# Placeholders & modifiers\n",
        "print(\"My name is Chela and I'm %i\" % myage)\n",
        "print(\"My name is Chela and I'm %i and %f\" % (myage, height))\n",
        "print(\"My name is Chela and I'm %i and %.2f\" % (myage, height)) # With specified number of decimal places\n",
        "# print(f\"My name is Chela and I'm %i and {height:.2f}\" % (myage, height))\n",
        "\n",
        "\n",
        "# Escaping characters\n",
        "print(\"We are the so-called \\\"Vikings\\\" from the north.\")\n",
        "print(\"Hello\\nWorld\") # new line\n",
        "print(\"Hello\\tWorld\") # tab\n",
        "print(\"Hello\\bWorld\") # backspace\n",
        "\n"
      ],
      "metadata": {
        "colab": {
          "base_uri": "https://localhost:8080/"
        },
        "id": "oi-hwdQyS5cu",
        "outputId": "0896aeae-f34d-4fd4-8c46-b10af75889d7"
      },
      "execution_count": null,
      "outputs": [
        {
          "output_type": "stream",
          "name": "stdout",
          "text": [
            "My name is Chela and I'm 28\n",
            "My name is Chela and I'm 28\n",
            "My name is Chela and I'm 28 and 1.678900\n",
            "My name is Chela and I'm 28 and 1.68\n",
            "We are the so-called \"Vikings\" from the north.\n",
            "Hello\n",
            "World\n",
            "Hello\tWorld\n",
            "Hello\bWorld\n"
          ]
        }
      ]
    },
    {
      "cell_type": "markdown",
      "source": [
        "## **Basic String Operations**"
      ],
      "metadata": {
        "id": "GS8fSR7FJM2y"
      }
    },
    {
      "cell_type": "code",
      "source": [
        "# Location of first occurence of a character\n",
        "astring = \"Hello, World\"\n",
        "print(astring.index(\"o\"))\n",
        "\n",
        "# Count specific character\n",
        "print(astring.count(\"l\"))\n",
        "\n",
        "# Slicing string\n",
        "print(astring[3:7])\n",
        "print(astring[3:10:2])\n",
        "\n",
        "# Changing the case\n",
        "print(astring.upper())\n",
        "print(astring.lower())\n",
        "\n",
        "# Getting characters at certain positions\n",
        "print(astring[4])\n",
        "\n",
        "# Looping\n",
        "# for x in astring:\n",
        "#   print(x)\n",
        "\n",
        "# Checking if a word/letters/characters exist in string\n",
        "txt = \"The best things in life are free\"\n",
        "print(\"free\" in txt) # returns trur or false\n",
        "print(\"expe\" not in txt)\n",
        "\n",
        "# Remove white spaces\n",
        "print(astring.strip())\n",
        "\n",
        "# Replace characters\n",
        "print(astring.replace(\"H\", \"Y\"))\n",
        "\n",
        "# Splitting strings\n",
        "print(astring.split(\",\"))\n",
        "\n",
        "#"
      ],
      "metadata": {
        "colab": {
          "base_uri": "https://localhost:8080/"
        },
        "id": "6-VYeHKKJs48",
        "outputId": "c9a5e173-fcc2-4d77-925a-626b4fe1499e"
      },
      "execution_count": null,
      "outputs": [
        {
          "output_type": "stream",
          "name": "stdout",
          "text": [
            "4\n",
            "3\n",
            "lo, \n",
            "l,Wr\n",
            "HELLO, WORLD\n",
            "hello, world\n",
            "o\n",
            "True\n",
            "True\n",
            "Hello, World\n",
            "Yello, World\n",
            "['Hello', ' World']\n"
          ]
        }
      ]
    },
    {
      "cell_type": "markdown",
      "source": [
        "\n",
        "\n",
        "*   .index()\n",
        "*   .count()\n",
        "*   .capitalize() - first character to upper case\n",
        "*   .count()\n",
        "*   .upper() - all letters are capitalized\n",
        "*   .lower()\n",
        "*   .index()\n",
        "*   .strip() - removes white spaces\n",
        "*   .replace(\"X\", \"Y\") - replace xters in text\n",
        "*   .split() - split into substrings based on separator\n",
        "\n"
      ],
      "metadata": {
        "id": "gyDOnJPjQfIG"
      }
    },
    {
      "cell_type": "code",
      "source": [
        "s = \"Hey there! what should this string be?\"\n",
        "# Length should be 20\n",
        "print(\"Length of s = %d\" % len(s))\n",
        "\n",
        "# First occurrence of \"a\" should be at index 8\n",
        "print(\"The first occurrence of the letter a = %d\" % s.index(\"a\"))\n",
        "\n",
        "# Number of a's should be 2\n",
        "print(\"a occurs %d times\" % s.count(\"a\"))\n",
        "\n",
        "# Slicing the string into bits\n",
        "print(\"The first five characters are '%s'\" % s[:5]) # Start to 5\n",
        "print(\"The next five characters are '%s'\" % s[5:10]) # 5 to 10\n",
        "print(\"The thirteenth character is '%s'\" % s[12]) # Just number 12\n",
        "print(\"The characters with odd index are '%s'\" %s[1::2]) #(0-based indexing)\n",
        "print(\"The last five characters are '%s'\" % s[-5:]) # 5th-from-last to end\n",
        "\n",
        "# Convert everything to uppercase\n",
        "print(\"String in uppercase: %s\" % s.upper())\n",
        "\n",
        "# Convert everything to lowercase\n",
        "print(\"String in lowercase: %s\" % s.lower())\n",
        "\n",
        "# Check how a string starts\n",
        "if s.startswith(\"Str\"):\n",
        "    print(\"String starts with 'Str'. Good!\")\n",
        "\n",
        "# Check how a string ends\n",
        "if s.endswith(\"ome!\"):\n",
        "    print(\"String ends with 'ome!'. Good!\")\n",
        "\n",
        "# Split the string into three separate strings,\n",
        "# each containing only a word\n",
        "print(\"Split the words of the string: %s\" % s.split(\" \"))"
      ],
      "metadata": {
        "colab": {
          "base_uri": "https://localhost:8080/"
        },
        "id": "tE3CgfuXOHF-",
        "outputId": "b6637947-af4c-4adc-faea-3bdb0be9d289"
      },
      "execution_count": null,
      "outputs": [
        {
          "output_type": "stream",
          "name": "stdout",
          "text": [
            "Length of s = 38\n",
            "The first occurrence of the letter a = 13\n",
            "a occurs 1 times\n",
            "The first five characters are 'Hey t'\n",
            "The next five characters are 'here!'\n",
            "The thirteenth character is 'h'\n",
            "The characters with odd index are 'e hr!wa hudti tigb?'\n",
            "The last five characters are 'g be?'\n",
            "String in uppercase: HEY THERE! WHAT SHOULD THIS STRING BE?\n",
            "String in lowercase: hey there! what should this string be?\n",
            "Split the words of the string: ['Hey', 'there!', 'what', 'should', 'this', 'string', 'be?']\n"
          ]
        }
      ]
    },
    {
      "cell_type": "markdown",
      "source": [
        "Methods:\n",
        "*   .index(\"x\")\n",
        "*   .count(\"x)\n",
        "\n"
      ],
      "metadata": {
        "id": "kGZRyJwUK0Dy"
      }
    },
    {
      "cell_type": "markdown",
      "metadata": {
        "id": "CZoqdX5savl2"
      },
      "source": [
        "## **Functions**"
      ]
    },
    {
      "cell_type": "markdown",
      "metadata": {
        "id": "BevSNIEneoyO"
      },
      "source": [
        "Naming conventions\n",
        "\n",
        "\n",
        "\n",
        "1.   Use only lowercase letters with words separated by underscores instead of spaces.\n",
        "2.  \n",
        "\n"
      ]
    },
    {
      "cell_type": "markdown",
      "metadata": {
        "id": "IaGbG80la3XN"
      },
      "source": [
        "### **Simple Functions**"
      ]
    },
    {
      "cell_type": "code",
      "execution_count": null,
      "metadata": {
        "id": "7LMqUI8yMcnr"
      },
      "outputs": [],
      "source": [
        "# Prints the type of item\n",
        "def print_type(item_type):\n",
        "  exact_type = print(type(item_type))\n",
        "  return exact_type"
      ]
    },
    {
      "cell_type": "code",
      "execution_count": null,
      "metadata": {
        "id": "d1lB7hkfVYpH"
      },
      "outputs": [],
      "source": [
        "# Define a function that adds three numbers\n",
        "def add_three(input_var):\n",
        "  output_var = input_var + 3\n",
        "  return output_var"
      ]
    },
    {
      "cell_type": "code",
      "execution_count": null,
      "metadata": {
        "colab": {
          "base_uri": "https://localhost:8080/"
        },
        "id": "51dRG3W2dz3E",
        "outputId": "a7f9b10b-9fa2-48ee-e8eb-ab7c9c75313d"
      },
      "outputs": [
        {
          "name": "stdout",
          "output_type": "stream",
          "text": [
            "13\n",
            "<class 'int'>\n"
          ]
        }
      ],
      "source": [
        "# Run the function with 10 as the input\n",
        "new_number = add_three(10)\n",
        "print(new_number)\n",
        "\n",
        "print_type(new_number)"
      ]
    },
    {
      "cell_type": "markdown",
      "metadata": {
        "id": "nLuX_zMVfEB9"
      },
      "source": [
        "Slightly complex"
      ]
    },
    {
      "cell_type": "code",
      "execution_count": null,
      "metadata": {
        "id": "GvbnZMR8fHIJ"
      },
      "outputs": [],
      "source": [
        "def get_pay(num_hours):\n",
        "  pay_pretax = num_hours*15\n",
        "  pay_pretax = pay_pretax*(1-0.12)\n",
        "  return pay_pretax\n",
        "\n",
        "\n",
        "pay_fulltime = get_pay(40)\n",
        "print(pay_fulltime)"
      ]
    },
    {
      "cell_type": "code",
      "execution_count": null,
      "metadata": {
        "colab": {
          "base_uri": "https://localhost:8080/"
        },
        "id": "9pw1d6rRftaH",
        "outputId": "81f997d5-5342-46a4-a597-ba558d65be0b"
      },
      "outputs": [
        {
          "data": {
            "text/plain": [
              "608.0"
            ]
          },
          "execution_count": 6,
          "metadata": {},
          "output_type": "execute_result"
        }
      ],
      "source": [
        "def get_pay_with_more_inputs(num_hours, hourly_wage, tax_bracket):\n",
        "  pay_pretax = num_hours*hourly_wage\n",
        "  pay_aftertax = pay_pretax*(1-tax_bracket)\n",
        "  return pay_aftertax\n",
        "\n",
        "higher_pay_aftertax = get_pay_with_more_inputs(40, 20, 0.24)\n",
        "higher_pay_aftertax"
      ]
    },
    {
      "cell_type": "markdown",
      "metadata": {
        "id": "peyuNs7Jhn5j"
      },
      "source": [
        "Functions with no arguments"
      ]
    },
    {
      "cell_type": "code",
      "execution_count": null,
      "metadata": {
        "colab": {
          "base_uri": "https://localhost:8080/"
        },
        "id": "WCf1hLxWhsG0",
        "outputId": "14ebe594-8ee6-4add-fb7d-62cf1458b387"
      },
      "outputs": [
        {
          "name": "stdout",
          "output_type": "stream",
          "text": [
            "Hello\n",
            "Good morning\n"
          ]
        }
      ],
      "source": [
        "def print_hello():\n",
        "  print(\"Hello\")\n",
        "  print(\"Good morning\")\n",
        "\n",
        "print_hello()"
      ]
    },
    {
      "cell_type": "markdown",
      "metadata": {
        "id": "4yO3noPfIQpr"
      },
      "source": [
        "Functions with arguments"
      ]
    },
    {
      "cell_type": "code",
      "source": [
        "def my_function_with_args(username, greeting):\n",
        "  print(\"Hello %s from my function with args, I wish you %s\" % (username, greeting))\n",
        "\n",
        "my_function_with_args(\"Jane\", \"a great year!\")"
      ],
      "metadata": {
        "colab": {
          "base_uri": "https://localhost:8080/"
        },
        "id": "EVmo4WtVH-zz",
        "outputId": "03537f87-2bc2-45be-986c-13dbd8a0b8a8"
      },
      "execution_count": null,
      "outputs": [
        {
          "output_type": "stream",
          "name": "stdout",
          "text": [
            "Hello Jane from my function with args, I wish you a great year!\n"
          ]
        }
      ]
    },
    {
      "cell_type": "code",
      "source": [
        "# Exercise\n",
        "# You'll use an existing function, and while adding your own to create a\n",
        "# fully functional program.\n",
        "\n",
        "# Add a function named list_benefits() that returns the following\n",
        "# list of strings: \"More organized code\",\n",
        "# \"More readable code\", \"Easier code reuse\",\n",
        "# \"Allowing programmers to share and connect code together\"\n",
        "\n",
        "# Add a function named build_sentence(info) which receives\n",
        "# a single argument containing a string\n",
        "# and returns a sentence starting with the given string\n",
        "# and ending with the string \" is a benefit of functions!\"\n",
        "\n",
        "# Run and see all the functions work together!\n",
        "\n",
        "# Modify this function to return a list of strings as defined above\n",
        "def list_benefits():\n",
        "  benefit = [\"More organized code\", \"More readable code\", \"Easier code reuse\", \"Allowing programmers to share and connect code together\"]\n",
        "  return [benefit]\n",
        "\n",
        "# Modify this function to concatenate to each benefit\n",
        "# - \" is a benefit of functions!\"\n",
        "def build_sentence(benefit):\n",
        "  # for x in benefit:\n",
        "  return \" %s is a benefit of functions!\" % benefit\n",
        "\n",
        "def name_the_benefits_of_functions():\n",
        "    list_of_benefits = list_benefits()\n",
        "    for benefit in list_of_benefits:\n",
        "        print(build_sentence(benefit))\n",
        "\n",
        "name_the_benefits_of_functions()"
      ],
      "metadata": {
        "colab": {
          "base_uri": "https://localhost:8080/"
        },
        "id": "1Ohpv6qeIzaV",
        "outputId": "d39658fd-8a7f-40b1-e60d-805bfd2c99f7"
      },
      "execution_count": null,
      "outputs": [
        {
          "output_type": "stream",
          "name": "stdout",
          "text": [
            " ['More organized code', 'More readable code', 'Easier code reuse', 'Allowing programmers to share and connect code together'] is a benefit of functions!\n"
          ]
        }
      ]
    },
    {
      "cell_type": "code",
      "source": [
        "# Modify this function to return a list of strings as defined above\n",
        "def list_benefits():\n",
        "    return [\"More organized code\", \"More readable code\", \"Easier code reuse\", \"Allowing programmers to share and connect code together\"]\n",
        "\n",
        "# Modify this function to concatenate to each benefit - \" is a benefit of functions!\"\n",
        "def build_sentence(benefit):\n",
        "    return \"%s is a benefit of functions!\" % benefit\n",
        "\n",
        "\n",
        "def name_the_benefits_of_functions():\n",
        "    list_of_benefits = list_benefits()\n",
        "    for benefit in list_of_benefits:\n",
        "        print(build_sentence(benefit))\n",
        "\n",
        "name_the_benefits_of_functions()"
      ],
      "metadata": {
        "colab": {
          "base_uri": "https://localhost:8080/"
        },
        "id": "TI0CTt4lL1MR",
        "outputId": "c9009ec3-89b5-4672-e235-d449f3a808ef"
      },
      "execution_count": null,
      "outputs": [
        {
          "output_type": "stream",
          "name": "stdout",
          "text": [
            "More organized code is a benefit of functions!\n",
            "More readable code is a benefit of functions!\n",
            "Easier code reuse is a benefit of functions!\n",
            "Allowing programmers to share and connect code together is a benefit of functions!\n"
          ]
        }
      ]
    },
    {
      "cell_type": "markdown",
      "source": [
        "### **Parameters & Arguments**\n",
        "    *   Parameter: var listed inside parentheses function definition.\n",
        "    *   Argument: value sent to function when called.\n",
        "\n",
        "1.   No Argument\n",
        "2.   With Argument:\n",
        "    *   **Arbitrary arguments** (*args) -  don't know how many arguments will be passed into function, add a `*` *before the parameter name in the function definition*.\n",
        "    *   **Keyword arguments** (kwargs)- *arguments with the key = value syntax.*\n",
        "          *   Passed to a function using its parameter name.\n",
        "          *   Passed either positionally or by keyword\n",
        "          *   Order doesn't matter therefore flexible (to test this out)\n",
        "    *   **Keyword only arguments** - o*nly be passed by keyword, not positionally.*\n",
        "    *   **Keyword Arbitrary arguments** (**kwargs) - do not know how many keyword arguments that will be passed into your function.\n",
        "    *   **Positional-Only Arguments** - must be specified by their position in the function call, not by their name. Use the / symbol in the function signature.\n",
        "    *  **Combine Positional-Only and Keyword-Only** - Any argument before the / , are positional-only, and any argument after the *, are keyword-only.\n",
        "\n",
        "    NB: Keyword arguments must always follow positional arguments in the function call. Move the positional argument 'r.-' (which defines the color, marker, and linestyle) before the keyword arguments, like this:\n",
        "\n",
        "`plt.plot(gas.Year, gas.Canada, 'r.-', label=\"Canada\")  # Corrected order`\n",
        "    \n",
        "Other concepts:\n",
        "*   Default Parameter Value - default value used whwen we call function without argument\n",
        "*   Recursion"
      ],
      "metadata": {
        "id": "n-PcOHX3sl8Z"
      }
    },
    {
      "cell_type": "code",
      "source": [
        "# ARBITRARY ARGUMENTS\n",
        "def my_function(*kids):\n",
        "  print(\"The youngest child is \" + kids[2])\n",
        "\n",
        "my_function(\"Emil\", \"Tobias\", \"Linus\")\n",
        "\n",
        "# KEYWORD ARGUMENTS\n",
        "def my_kwargs(child3, child2, child1):\n",
        "  print(\"The youngest child is \" + child3)\n",
        "\n",
        "my_kwargs(child1 = \"Emil\", child2 = \"Tobias\", child3 = \"Linus\")\n",
        "\n",
        "# For example\n",
        "def greet(name, message=\"Hello\"):\n",
        "    print(f\"{message}, {name}!\")\n",
        "\n",
        "# Using positional arguments\n",
        "greet(\"Alice\")  # Output: Hello, Alice!\n",
        "\n",
        "# Using keyword arguments\n",
        "greet(name=\"Alice\", message=\"Hi\")  # Output: Hi, Alice!\n",
        "\n",
        "# ARBITRARY KEYWORD ARGUMENTS\n",
        "def my_akwargs(**kid):\n",
        "  print(\"His last name is \" + kid[\"lname\"])\n",
        "\n",
        "my_akwargs(fname = \"Tobias\", lname = \"Refsnes\")\n",
        "\n",
        "# KEYWORD ONLY ARGUMENTS\n",
        "def greet_kwoa(name, *, message=\"Hello\"):\n",
        "    print(f\"{message}, {name}!\")\n",
        "\n",
        "# Using keyword-only arguments\n",
        "greet_kwoa(\"Alice\", message=\"Hi\")  # Output: Hi, Alice!\n",
        "\n",
        "# Error: message must be passed as a keyword argument\n",
        "# greet_kwoa(\"Alice\", \"Hi\")  # TypeError: greet() takes 1 positional argument but 2 were given\n",
        "\n",
        "# POSITIONAL ARGUMENTS\n",
        "def calculate(x, y, /, operation=\"add\"):\n",
        "    if operation == \"add\":\n",
        "        return x + y\n",
        "    elif operation == \"subtract\":\n",
        "        return x - y\n",
        "\n",
        "print(calculate(5, 3))  # Valid: Defaults to operation=\"add\"\n",
        "print(calculate(5, 3, operation=\"subtract\"))  # Valid\n",
        "# print(calculate(x=5, y=3))  # Error: x and y are position-only\n"
      ],
      "metadata": {
        "colab": {
          "base_uri": "https://localhost:8080/"
        },
        "id": "mAJnLzHpro5J",
        "outputId": "48484a83-7f4b-4050-d44f-6c8f4ecf2341"
      },
      "execution_count": null,
      "outputs": [
        {
          "output_type": "stream",
          "name": "stdout",
          "text": [
            "The youngest child is Linus\n",
            "The youngest child is Linus\n",
            "Hello, Alice!\n",
            "Hi, Alice!\n",
            "His last name is Refsnes\n",
            "Hi, Alice!\n",
            "8\n",
            "2\n"
          ]
        }
      ]
    },
    {
      "cell_type": "markdown",
      "metadata": {
        "id": "iBfwLs4B6XvM"
      },
      "source": [
        "## **Conditions & Conditional Statements**\n",
        "\n",
        "      *   Condition: statements that are either True or False\n",
        "      *   Conditional Statement: use conditions to modify how your function runs.\n",
        "\n",
        "1.  if\n",
        "2.  if...else\n",
        "3.  if...elif...else\n",
        "\n",
        "\n",
        "\n",
        "\n",
        "\n",
        "\n"
      ]
    },
    {
      "cell_type": "code",
      "source": [
        "# IF STATEMENT\n",
        "def evaluate_temp(temp):\n",
        "  # Setting the initial message:\n",
        "  message = \"Normal temperature.\"\n",
        "  if temp > 38.0:\n",
        "    message = \"Fever!\"\n",
        "  return message\n",
        "print(\"Before indendatation\")\n",
        "print(evaluate_temp(39.0))\n",
        "print(evaluate_temp(37.0))\n",
        "\n",
        "# IF STATEMENT\n",
        "def evaluate_temp2(temp):\n",
        "  # Setting the initial message:\n",
        "  message = \"Normal temperature.\"\n",
        "  if temp > 38.0:\n",
        "    message = \"Fever!\"\n",
        "    return message\n",
        "# Print this is after indentation\n",
        "print(\"\\nAfter indendatation\")\n",
        "print(evaluate_temp2(39.0))\n",
        "print(evaluate_temp2(37.0))"
      ],
      "metadata": {
        "id": "0nNQfdK06lOM",
        "colab": {
          "base_uri": "https://localhost:8080/"
        },
        "outputId": "d730d701-fc18-4c26-be29-8e97733d40d5"
      },
      "execution_count": null,
      "outputs": [
        {
          "output_type": "stream",
          "name": "stdout",
          "text": [
            "Before indendatation\n",
            "Fever!\n",
            "Normal temperature.\n",
            "\n",
            "After indendatation\n",
            "Fever!\n",
            "None\n"
          ]
        }
      ]
    },
    {
      "cell_type": "code",
      "source": [
        "# IF ELSE\n",
        "# code under the \"if\" statement is run if the statement is True,\n",
        "# code under \"else\" is run if the statement is False.\n",
        "\n",
        "def evaluate_temp_with_else(temp):\n",
        "  if temp > 38:\n",
        "    message = \"Fever!\"\n",
        "  else:\n",
        "    message = \"Normal temperature.\"\n",
        "  return message\n",
        "print(\"\\nEquivalent to evaluate_temp function\")\n",
        "print(evaluate_temp_with_else(37))\n",
        "\n",
        "def evaluate_temp_with_else1(temp):\n",
        "  message = \"Normal temperature\"\n",
        "  if temp > 38:\n",
        "    message = \"Fever!\"\n",
        "  else:\n",
        "    message = \"Below normal\"\n",
        "  return message\n",
        "print(\"\\nWith 3 messages\")\n",
        "print(evaluate_temp_with_else1(37))"
      ],
      "metadata": {
        "colab": {
          "base_uri": "https://localhost:8080/"
        },
        "id": "oj7mIaA_6UGv",
        "outputId": "117f2924-2e32-4d30-a987-a4398b0cb7d7"
      },
      "execution_count": null,
      "outputs": [
        {
          "output_type": "stream",
          "name": "stdout",
          "text": [
            "\n",
            "Equivalent to evaluate_temp function\n",
            "Normal temperature.\n",
            "\n",
            "With 3 messages\n",
            "Below normal\n"
          ]
        }
      ]
    },
    {
      "cell_type": "code",
      "source": [
        "# IF ELIF ELSE\n",
        "# check if multiple conditions might be true\n",
        "def evaluate_temp_with_elif(temp):\n",
        "  if temp > 38:\n",
        "    message = \"Fever\"\n",
        "  elif temp > 35:\n",
        "    message = \"Normal temperature but below 38\"\n",
        "  elif temp > 33:\n",
        "    message = \"Borderline temperature\"\n",
        "  else:\n",
        "    message = \"Low temperature\"\n",
        "  return message\n",
        "\n",
        "print(evaluate_temp_with_elif(37))\n",
        "print(evaluate_temp_with_elif(35))\n",
        "print(evaluate_temp_with_elif(39))\n",
        "print(evaluate_temp_with_elif(31))"
      ],
      "metadata": {
        "colab": {
          "base_uri": "https://localhost:8080/"
        },
        "id": "NAfPJdly8O_N",
        "outputId": "c242a97a-840c-4dc6-fc41-319fc22972d9"
      },
      "execution_count": null,
      "outputs": [
        {
          "output_type": "stream",
          "name": "stdout",
          "text": [
            "Normal temperature but below 38\n",
            "Borderline temperature\n",
            "Fever\n",
            "Low temperature\n"
          ]
        }
      ]
    },
    {
      "cell_type": "code",
      "source": [
        "# Say you live in a country with only two tax brackets.\n",
        "# Everyone earning less than 12,000 pays 25% in taxes\n",
        "# Anyone earning 12,000 or more pays 30%.\n",
        "# Calculate how much tax should be paid\n",
        "\n",
        "def tax_to_pay(income):\n",
        "  tax = 0\n",
        "  if income < 12000:\n",
        "    tax = income*25/100\n",
        "  else:\n",
        "    tax = income*30/100\n",
        "\n",
        "  return tax\n",
        "\n",
        "print(tax_to_pay(13000))"
      ],
      "metadata": {
        "colab": {
          "base_uri": "https://localhost:8080/"
        },
        "id": "rPlShI5I9PAB",
        "outputId": "3cbcf26b-cf98-4487-f2eb-8a39e20f2459"
      },
      "execution_count": null,
      "outputs": [
        {
          "output_type": "stream",
          "name": "stdout",
          "text": [
            "3900.0\n"
          ]
        }
      ]
    },
    {
      "cell_type": "markdown",
      "source": [
        "BMI calculation"
      ],
      "metadata": {
        "id": "WaGqtu68_SY-"
      }
    },
    {
      "cell_type": "markdown",
      "metadata": {
        "id": "tJBm0JWZ_bGk"
      },
      "source": [
        "## **Loops**\n",
        "\n",
        "      *   Condition: statements that are either True or False\n",
        "      *   Conditional Statement: use conditions to modify how your function runs.\n",
        "\n",
        "1.  if\n",
        "2.  if...else\n",
        "3.  if...elif...else\n",
        "\n",
        "\n",
        "\n",
        "\n",
        "\n",
        "\n"
      ]
    },
    {
      "cell_type": "markdown",
      "metadata": {
        "id": "JocFDdjuYHZt"
      },
      "source": [
        "# **Libraries**\n",
        "\n",
        "1.  Pypdf\n",
        "2.  icecream - make debugging easier, output is syntax highlighted and inspects itself.\n",
        "3. [loguru](https://loguru.readthedocs.io/) - simplified logging, automatically\n",
        "4. rich - write rich text, renders markdown text\n",
        "5. argparse - parse for cmd interface\n",
        "6. tqdm - progress bar (integrate it in the grabbers)\n",
        "7.  xarray - provides data model for working with multidimenional data\n",
        "8. polars - handles very large datasets & heavy computations\n",
        "9. seaborn - plotting & built on top of matplotlib\n",
        "10. result - real world oriented programming. Alt to handling errors using exceptions framework\n",
        "11. pydantic - data validation library, catch errors on the fly beo\n",
        "12. fastapi - modern web framework for building BE apis over flask\n",
        "13. sqlmodel - connect it to DBs\n",
        "14. httpx - next gen http client with async support, type annotation etc\n",
        "15. python-dotenv - read key value pairs"
      ]
    },
    {
      "cell_type": "markdown",
      "source": [
        "# **Pandas**: Panel Data"
      ],
      "metadata": {
        "id": "NsZbG6AncmSr"
      }
    },
    {
      "cell_type": "markdown",
      "source": [
        "## Intro"
      ],
      "metadata": {
        "id": "CJORrr15cwTo"
      }
    },
    {
      "cell_type": "code",
      "source": [
        "import pandas as pd\n",
        "\n",
        "mydata = {\n",
        "    'car': [\"BMW\", \"VW\", \"Ford\"],\n",
        "    'pass': [3,7,4]\n",
        "}\n",
        "\n",
        "myvar = pd.DataFrame(mydata)\n",
        "print(myvar)\n",
        "print(type(mydata))"
      ],
      "metadata": {
        "colab": {
          "base_uri": "https://localhost:8080/"
        },
        "id": "tG7HQWq2cpa2",
        "outputId": "521b6b22-f14e-48b6-94a7-3fb2e0d045a1"
      },
      "execution_count": null,
      "outputs": [
        {
          "output_type": "stream",
          "name": "stdout",
          "text": [
            "    car  pass\n",
            "0   BMW     3\n",
            "1    VW     7\n",
            "2  Ford     4\n",
            "<class 'dict'>\n"
          ]
        }
      ]
    },
    {
      "cell_type": "code",
      "source": [
        "# SERIES\n",
        "a = [1,2,3,4,5]\n",
        "myseries = pd.Series(a)\n",
        "print(myseries)\n",
        "print(type(myseries))\n",
        "\n",
        "# Labels\n",
        "print(\"\\nItem at the first label:\", myseries[0])\n",
        "\n",
        "# Creating labels/indexes\n",
        "myseries = pd.Series(a, index = [\"a\", \"b\", \"c\", \"d\", \"e\"])\n",
        "print(myseries)\n",
        "\n",
        "#  Key/Value objects as a series\n",
        "weight = {\"1st\" :55.55, \"2nd\": 55.45, \"3rd\": 55.75}\n",
        "myweight = pd.Series(weight)\n",
        "print(\"\\n\", myweight)"
      ],
      "metadata": {
        "colab": {
          "base_uri": "https://localhost:8080/"
        },
        "id": "78ke5deNfdP1",
        "outputId": "383eb696-3923-48e6-bfe4-aa11361577ca"
      },
      "execution_count": null,
      "outputs": [
        {
          "output_type": "stream",
          "name": "stdout",
          "text": [
            "0    1\n",
            "1    2\n",
            "2    3\n",
            "3    4\n",
            "4    5\n",
            "dtype: int64\n",
            "<class 'pandas.core.series.Series'>\n",
            "\n",
            "Item at the first label: 1\n",
            "a    1\n",
            "b    2\n",
            "c    3\n",
            "d    4\n",
            "e    5\n",
            "dtype: int64\n",
            "\n",
            " 1st    55.55\n",
            "2nd    55.45\n",
            "3rd    55.75\n",
            "dtype: float64\n"
          ]
        }
      ]
    },
    {
      "cell_type": "code",
      "source": [
        "# DATAFRAME\n",
        "mydf = {\n",
        "    \"calories\": [420, 400, 380],\n",
        "    \"meal\": [\"breakfast\", \"lunch\", \"dinner\"]\n",
        "}\n",
        "df = pd.DataFrame(mydf)\n",
        "print(df)\n",
        "\n",
        "# selecting the row\n",
        "df.loc[0]  #returns 1 row/series\n",
        "df.loc[[0,1]] # returns row 1 &2/dataframe\n",
        "\n",
        "# naming indexes\n",
        "df = pd.DataFrame(mydf, index = [\"day1\",\"day2\",\"day3\"])\n",
        "print(\"\\n\", df)\n",
        "\n",
        "# locating row by index\n",
        "print(\"\\nRow 3\", df.loc[\"day3\"])"
      ],
      "metadata": {
        "colab": {
          "base_uri": "https://localhost:8080/"
        },
        "id": "sDOkqWOsmpCy",
        "outputId": "56b9f7d1-47f2-4074-c648-2b862a388a06"
      },
      "execution_count": null,
      "outputs": [
        {
          "output_type": "stream",
          "name": "stdout",
          "text": [
            "   calories       meal\n",
            "0       420  breakfast\n",
            "1       400      lunch\n",
            "2       380     dinner\n",
            "\n",
            "       calories       meal\n",
            "day1       420  breakfast\n",
            "day2       400      lunch\n",
            "day3       380     dinner\n",
            "\n",
            "Row 3 calories       380\n",
            "meal        dinner\n",
            "Name: day3, dtype: object\n"
          ]
        }
      ]
    },
    {
      "cell_type": "markdown",
      "source": [
        "watch later; https://youtu.be/BWMaO1cUUT8?si=TizP1H3TEODucW3e"
      ],
      "metadata": {
        "id": "nHquKV2Rdgac"
      }
    },
    {
      "cell_type": "code",
      "source": [
        "# LOADING FILES\n",
        "# CSV\n",
        "new_data = pd.read_csv(\"data.csv\")\n",
        "# print(new_data)\n",
        "\n",
        "print(\"\\n\", pd.options.display.max_rows)\n",
        "pd.options.display.max_rows = 9999 #change the max number of rows\n",
        "\n",
        "# print(\"\\n\", new_data.to_string()) # print the entire DataFrame\n",
        "\n",
        "# JSON\n",
        "# 1. Using pd.read_json() Method\n",
        "# new_json_data = pd.read_json(\"data.json\")\n",
        "# print(new_json_data)\n",
        "\n",
        "\n",
        "# 2. Using pd.Dataframe() Methods\n",
        "json_data = {\n",
        "  \"Duration\":{\n",
        "    \"0\":60,\n",
        "    \"1\":60,\n",
        "    \"2\":60,\n",
        "    \"3\":45,\n",
        "    \"4\":45,\n",
        "    \"5\":60\n",
        "  },\n",
        "  \"Pulse\":{\n",
        "    \"0\":110,\n",
        "    \"1\":117,\n",
        "    \"2\":103,\n",
        "    \"3\":109,\n",
        "    \"4\":117,\n",
        "    \"5\":102\n",
        "  },\n",
        "  \"Maxpulse\":{\n",
        "    \"0\":130,\n",
        "    \"1\":145,\n",
        "    \"2\":135,\n",
        "    \"3\":175,\n",
        "    \"4\":148,\n",
        "    \"5\":127\n",
        "  },\n",
        "  \"Calories\":{\n",
        "    \"0\":409,\n",
        "    \"1\":479,\n",
        "    \"2\":340,\n",
        "    \"3\":282,\n",
        "    \"4\":406,\n",
        "    \"5\":300\n",
        "  }\n",
        "}\n",
        "\n",
        "json_df = pd.DataFrame(json_data)\n",
        "\n",
        "# print(json_df) # comment it out\n",
        "# 3. Using JSON module and pd.json_normalize() Method\n",
        "import json\n",
        "json_data = json.dumps(json_data)\n",
        "json_df = pd.json_normalize(json.loads(json_data))\n",
        "print(json_df)"
      ],
      "metadata": {
        "colab": {
          "base_uri": "https://localhost:8080/"
        },
        "id": "E_yMO8l5okUu",
        "outputId": "510aac01-80b6-437d-bbc8-4246f469aa5f"
      },
      "execution_count": null,
      "outputs": [
        {
          "output_type": "stream",
          "name": "stdout",
          "text": [
            "\n",
            " 9999\n",
            "   Duration.0  Duration.1  Duration.2  Duration.3  Duration.4  Duration.5  \\\n",
            "0          60          60          60          45          45          60   \n",
            "\n",
            "   Pulse.0  Pulse.1  Pulse.2  Pulse.3  ...  Maxpulse.2  Maxpulse.3  \\\n",
            "0      110      117      103      109  ...         135         175   \n",
            "\n",
            "   Maxpulse.4  Maxpulse.5  Calories.0  Calories.1  Calories.2  Calories.3  \\\n",
            "0         148         127         409         479         340         282   \n",
            "\n",
            "   Calories.4  Calories.5  \n",
            "0         406         300  \n",
            "\n",
            "[1 rows x 24 columns]\n"
          ]
        }
      ]
    },
    {
      "cell_type": "code",
      "source": [
        "# Analyzing dataframes\n",
        "print(new_data.info())"
      ],
      "metadata": {
        "colab": {
          "base_uri": "https://localhost:8080/"
        },
        "id": "EIIXr-yKtitb",
        "outputId": "49e948d6-008b-40b5-a14e-bc2da314046e"
      },
      "execution_count": null,
      "outputs": [
        {
          "output_type": "stream",
          "name": "stdout",
          "text": [
            "<class 'pandas.core.frame.DataFrame'>\n",
            "RangeIndex: 169 entries, 0 to 168\n",
            "Data columns (total 4 columns):\n",
            " #   Column    Non-Null Count  Dtype  \n",
            "---  ------    --------------  -----  \n",
            " 0   Duration  169 non-null    int64  \n",
            " 1   Pulse     169 non-null    int64  \n",
            " 2   Maxpulse  169 non-null    int64  \n",
            " 3   Calories  164 non-null    float64\n",
            "dtypes: float64(1), int64(3)\n",
            "memory usage: 5.4 KB\n",
            "None\n"
          ]
        }
      ]
    },
    {
      "cell_type": "markdown",
      "source": [
        "## **Cleaning Data**"
      ],
      "metadata": {
        "id": "uHjoe_dqubGW"
      }
    },
    {
      "cell_type": "code",
      "source": [
        "# EMPTY CELLS\n",
        "# 1. Remove entire row/s\n",
        "print(new_data.info())\n",
        "new_df = new_data.dropna()\n",
        "print(\"\\n\", new_df.info())\n",
        "print(\"\\n\", new_df.to_string())\n",
        "# Note: By default, the dropna() method returns a new DataFrame, and will not change the original.\n",
        "\n",
        "# If you want to change the original DataFrame, use the inplace = True argument\n",
        "\n",
        "# 2.Replace empty cells\n",
        "new_data.fillna(100, inplace = True)\n",
        "print(new_data.info())\n",
        "\n",
        "# Replacing only forr a specified column\n",
        "new_data[\"Calories\"].fillna(100, inplace = True)\n",
        "# print(new_data)\n",
        "\n",
        "# Replacing with mean/mode/median\n",
        "new_data[\"Calories\"].fillna(new_data[\"Calories\"].mean(), inplace = True)\n",
        "# print(new_data)"
      ],
      "metadata": {
        "id": "DD_uu6hKufHJ"
      },
      "execution_count": null,
      "outputs": []
    },
    {
      "cell_type": "code",
      "source": [
        "# WRONG FORMAT DATA\n",
        "# Converting to the correct format\n",
        "df[\"Date\"] = pd.to_datetime(df[\"Date\"])\n",
        "\n",
        "# Dropping rows with wrong format\n",
        "df.dropna(subset=[\"Date\"], inplace = True)"
      ],
      "metadata": {
        "colab": {
          "base_uri": "https://localhost:8080/",
          "height": 80
        },
        "id": "TlGYXY2d2m-3",
        "outputId": "473f2889-6bab-406a-a8a8-5b3ebf8e3258"
      },
      "execution_count": null,
      "outputs": [
        {
          "output_type": "execute_result",
          "data": {
            "text/plain": [
              "    Duration  Pulse  Maxpulse  Calories\n",
              "21        45    100       119     282.0"
            ],
            "text/html": [
              "\n",
              "  <div id=\"df-fac89ce4-69b7-4889-ac4a-94e3f67d930a\" class=\"colab-df-container\">\n",
              "    <div>\n",
              "<style scoped>\n",
              "    .dataframe tbody tr th:only-of-type {\n",
              "        vertical-align: middle;\n",
              "    }\n",
              "\n",
              "    .dataframe tbody tr th {\n",
              "        vertical-align: top;\n",
              "    }\n",
              "\n",
              "    .dataframe thead th {\n",
              "        text-align: right;\n",
              "    }\n",
              "</style>\n",
              "<table border=\"1\" class=\"dataframe\">\n",
              "  <thead>\n",
              "    <tr style=\"text-align: right;\">\n",
              "      <th></th>\n",
              "      <th>Duration</th>\n",
              "      <th>Pulse</th>\n",
              "      <th>Maxpulse</th>\n",
              "      <th>Calories</th>\n",
              "    </tr>\n",
              "  </thead>\n",
              "  <tbody>\n",
              "    <tr>\n",
              "      <th>21</th>\n",
              "      <td>45</td>\n",
              "      <td>100</td>\n",
              "      <td>119</td>\n",
              "      <td>282.0</td>\n",
              "    </tr>\n",
              "  </tbody>\n",
              "</table>\n",
              "</div>\n",
              "    <div class=\"colab-df-buttons\">\n",
              "\n",
              "  <div class=\"colab-df-container\">\n",
              "    <button class=\"colab-df-convert\" onclick=\"convertToInteractive('df-fac89ce4-69b7-4889-ac4a-94e3f67d930a')\"\n",
              "            title=\"Convert this dataframe to an interactive table.\"\n",
              "            style=\"display:none;\">\n",
              "\n",
              "  <svg xmlns=\"http://www.w3.org/2000/svg\" height=\"24px\" viewBox=\"0 -960 960 960\">\n",
              "    <path d=\"M120-120v-720h720v720H120Zm60-500h600v-160H180v160Zm220 220h160v-160H400v160Zm0 220h160v-160H400v160ZM180-400h160v-160H180v160Zm440 0h160v-160H620v160ZM180-180h160v-160H180v160Zm440 0h160v-160H620v160Z\"/>\n",
              "  </svg>\n",
              "    </button>\n",
              "\n",
              "  <style>\n",
              "    .colab-df-container {\n",
              "      display:flex;\n",
              "      gap: 12px;\n",
              "    }\n",
              "\n",
              "    .colab-df-convert {\n",
              "      background-color: #E8F0FE;\n",
              "      border: none;\n",
              "      border-radius: 50%;\n",
              "      cursor: pointer;\n",
              "      display: none;\n",
              "      fill: #1967D2;\n",
              "      height: 32px;\n",
              "      padding: 0 0 0 0;\n",
              "      width: 32px;\n",
              "    }\n",
              "\n",
              "    .colab-df-convert:hover {\n",
              "      background-color: #E2EBFA;\n",
              "      box-shadow: 0px 1px 2px rgba(60, 64, 67, 0.3), 0px 1px 3px 1px rgba(60, 64, 67, 0.15);\n",
              "      fill: #174EA6;\n",
              "    }\n",
              "\n",
              "    .colab-df-buttons div {\n",
              "      margin-bottom: 4px;\n",
              "    }\n",
              "\n",
              "    [theme=dark] .colab-df-convert {\n",
              "      background-color: #3B4455;\n",
              "      fill: #D2E3FC;\n",
              "    }\n",
              "\n",
              "    [theme=dark] .colab-df-convert:hover {\n",
              "      background-color: #434B5C;\n",
              "      box-shadow: 0px 1px 3px 1px rgba(0, 0, 0, 0.15);\n",
              "      filter: drop-shadow(0px 1px 2px rgba(0, 0, 0, 0.3));\n",
              "      fill: #FFFFFF;\n",
              "    }\n",
              "  </style>\n",
              "\n",
              "    <script>\n",
              "      const buttonEl =\n",
              "        document.querySelector('#df-fac89ce4-69b7-4889-ac4a-94e3f67d930a button.colab-df-convert');\n",
              "      buttonEl.style.display =\n",
              "        google.colab.kernel.accessAllowed ? 'block' : 'none';\n",
              "\n",
              "      async function convertToInteractive(key) {\n",
              "        const element = document.querySelector('#df-fac89ce4-69b7-4889-ac4a-94e3f67d930a');\n",
              "        const dataTable =\n",
              "          await google.colab.kernel.invokeFunction('convertToInteractive',\n",
              "                                                    [key], {});\n",
              "        if (!dataTable) return;\n",
              "\n",
              "        const docLinkHtml = 'Like what you see? Visit the ' +\n",
              "          '<a target=\"_blank\" href=https://colab.research.google.com/notebooks/data_table.ipynb>data table notebook</a>'\n",
              "          + ' to learn more about interactive tables.';\n",
              "        element.innerHTML = '';\n",
              "        dataTable['output_type'] = 'display_data';\n",
              "        await google.colab.output.renderOutput(dataTable, element);\n",
              "        const docLink = document.createElement('div');\n",
              "        docLink.innerHTML = docLinkHtml;\n",
              "        element.appendChild(docLink);\n",
              "      }\n",
              "    </script>\n",
              "  </div>\n",
              "\n",
              "\n",
              "    </div>\n",
              "  </div>\n"
            ],
            "application/vnd.google.colaboratory.intrinsic+json": {
              "type": "dataframe",
              "summary": "{\n  \"name\": \"new_data\",\n  \"rows\": 1,\n  \"fields\": [\n    {\n      \"column\": \"Duration\",\n      \"properties\": {\n        \"dtype\": \"number\",\n        \"std\": null,\n        \"min\": 45,\n        \"max\": 45,\n        \"num_unique_values\": 1,\n        \"samples\": [\n          45\n        ],\n        \"semantic_type\": \"\",\n        \"description\": \"\"\n      }\n    },\n    {\n      \"column\": \"Pulse\",\n      \"properties\": {\n        \"dtype\": \"number\",\n        \"std\": null,\n        \"min\": 100,\n        \"max\": 100,\n        \"num_unique_values\": 1,\n        \"samples\": [\n          100\n        ],\n        \"semantic_type\": \"\",\n        \"description\": \"\"\n      }\n    },\n    {\n      \"column\": \"Maxpulse\",\n      \"properties\": {\n        \"dtype\": \"number\",\n        \"std\": null,\n        \"min\": 119,\n        \"max\": 119,\n        \"num_unique_values\": 1,\n        \"samples\": [\n          119\n        ],\n        \"semantic_type\": \"\",\n        \"description\": \"\"\n      }\n    },\n    {\n      \"column\": \"Calories\",\n      \"properties\": {\n        \"dtype\": \"number\",\n        \"std\": null,\n        \"min\": 282.0,\n        \"max\": 282.0,\n        \"num_unique_values\": 1,\n        \"samples\": [\n          282.0\n        ],\n        \"semantic_type\": \"\",\n        \"description\": \"\"\n      }\n    }\n  ]\n}"
            }
          },
          "metadata": {},
          "execution_count": 59
        }
      ]
    },
    {
      "cell_type": "code",
      "source": [
        "# WRONG DATA\n",
        "# Replacing the value\n",
        "\n",
        "df.loc[7, \"Duration\"] = 45"
      ],
      "metadata": {
        "id": "r6L8FF0g4bGv"
      },
      "execution_count": null,
      "outputs": []
    },
    {
      "cell_type": "markdown",
      "source": [
        "# **REVIEW LOC METHOD**: QUERRY IN GPT"
      ],
      "metadata": {
        "id": "EwlJ6z8u6bx4"
      }
    },
    {
      "cell_type": "code",
      "source": [
        "# DUPLICATES\n",
        "#  Checking for duplicates\n",
        "df.duplicated()\n",
        "\n",
        "# Removing duplicates\n",
        "df.drop_duplicates(inplace = True)"
      ],
      "metadata": {
        "id": "b5HVDp-A6bTW"
      },
      "execution_count": null,
      "outputs": []
    },
    {
      "cell_type": "code",
      "source": [
        "df_corr = pd.read_csv(\"data.csv\")\n",
        "df_corr.corr()"
      ],
      "metadata": {
        "colab": {
          "base_uri": "https://localhost:8080/",
          "height": 174
        },
        "id": "G8Klx5xw7Ck3",
        "outputId": "467b1e11-bb88-449b-e424-c6c698989d6e"
      },
      "execution_count": null,
      "outputs": [
        {
          "output_type": "execute_result",
          "data": {
            "text/plain": [
              "          Duration     Pulse  Maxpulse  Calories\n",
              "Duration  1.000000 -0.155408  0.009403  0.922717\n",
              "Pulse    -0.155408  1.000000  0.786535  0.025121\n",
              "Maxpulse  0.009403  0.786535  1.000000  0.203813\n",
              "Calories  0.922717  0.025121  0.203813  1.000000"
            ],
            "text/html": [
              "\n",
              "  <div id=\"df-d1c3b94d-4b88-4294-8307-e27071525c65\" class=\"colab-df-container\">\n",
              "    <div>\n",
              "<style scoped>\n",
              "    .dataframe tbody tr th:only-of-type {\n",
              "        vertical-align: middle;\n",
              "    }\n",
              "\n",
              "    .dataframe tbody tr th {\n",
              "        vertical-align: top;\n",
              "    }\n",
              "\n",
              "    .dataframe thead th {\n",
              "        text-align: right;\n",
              "    }\n",
              "</style>\n",
              "<table border=\"1\" class=\"dataframe\">\n",
              "  <thead>\n",
              "    <tr style=\"text-align: right;\">\n",
              "      <th></th>\n",
              "      <th>Duration</th>\n",
              "      <th>Pulse</th>\n",
              "      <th>Maxpulse</th>\n",
              "      <th>Calories</th>\n",
              "    </tr>\n",
              "  </thead>\n",
              "  <tbody>\n",
              "    <tr>\n",
              "      <th>Duration</th>\n",
              "      <td>1.000000</td>\n",
              "      <td>-0.155408</td>\n",
              "      <td>0.009403</td>\n",
              "      <td>0.922717</td>\n",
              "    </tr>\n",
              "    <tr>\n",
              "      <th>Pulse</th>\n",
              "      <td>-0.155408</td>\n",
              "      <td>1.000000</td>\n",
              "      <td>0.786535</td>\n",
              "      <td>0.025121</td>\n",
              "    </tr>\n",
              "    <tr>\n",
              "      <th>Maxpulse</th>\n",
              "      <td>0.009403</td>\n",
              "      <td>0.786535</td>\n",
              "      <td>1.000000</td>\n",
              "      <td>0.203813</td>\n",
              "    </tr>\n",
              "    <tr>\n",
              "      <th>Calories</th>\n",
              "      <td>0.922717</td>\n",
              "      <td>0.025121</td>\n",
              "      <td>0.203813</td>\n",
              "      <td>1.000000</td>\n",
              "    </tr>\n",
              "  </tbody>\n",
              "</table>\n",
              "</div>\n",
              "    <div class=\"colab-df-buttons\">\n",
              "\n",
              "  <div class=\"colab-df-container\">\n",
              "    <button class=\"colab-df-convert\" onclick=\"convertToInteractive('df-d1c3b94d-4b88-4294-8307-e27071525c65')\"\n",
              "            title=\"Convert this dataframe to an interactive table.\"\n",
              "            style=\"display:none;\">\n",
              "\n",
              "  <svg xmlns=\"http://www.w3.org/2000/svg\" height=\"24px\" viewBox=\"0 -960 960 960\">\n",
              "    <path d=\"M120-120v-720h720v720H120Zm60-500h600v-160H180v160Zm220 220h160v-160H400v160Zm0 220h160v-160H400v160ZM180-400h160v-160H180v160Zm440 0h160v-160H620v160ZM180-180h160v-160H180v160Zm440 0h160v-160H620v160Z\"/>\n",
              "  </svg>\n",
              "    </button>\n",
              "\n",
              "  <style>\n",
              "    .colab-df-container {\n",
              "      display:flex;\n",
              "      gap: 12px;\n",
              "    }\n",
              "\n",
              "    .colab-df-convert {\n",
              "      background-color: #E8F0FE;\n",
              "      border: none;\n",
              "      border-radius: 50%;\n",
              "      cursor: pointer;\n",
              "      display: none;\n",
              "      fill: #1967D2;\n",
              "      height: 32px;\n",
              "      padding: 0 0 0 0;\n",
              "      width: 32px;\n",
              "    }\n",
              "\n",
              "    .colab-df-convert:hover {\n",
              "      background-color: #E2EBFA;\n",
              "      box-shadow: 0px 1px 2px rgba(60, 64, 67, 0.3), 0px 1px 3px 1px rgba(60, 64, 67, 0.15);\n",
              "      fill: #174EA6;\n",
              "    }\n",
              "\n",
              "    .colab-df-buttons div {\n",
              "      margin-bottom: 4px;\n",
              "    }\n",
              "\n",
              "    [theme=dark] .colab-df-convert {\n",
              "      background-color: #3B4455;\n",
              "      fill: #D2E3FC;\n",
              "    }\n",
              "\n",
              "    [theme=dark] .colab-df-convert:hover {\n",
              "      background-color: #434B5C;\n",
              "      box-shadow: 0px 1px 3px 1px rgba(0, 0, 0, 0.15);\n",
              "      filter: drop-shadow(0px 1px 2px rgba(0, 0, 0, 0.3));\n",
              "      fill: #FFFFFF;\n",
              "    }\n",
              "  </style>\n",
              "\n",
              "    <script>\n",
              "      const buttonEl =\n",
              "        document.querySelector('#df-d1c3b94d-4b88-4294-8307-e27071525c65 button.colab-df-convert');\n",
              "      buttonEl.style.display =\n",
              "        google.colab.kernel.accessAllowed ? 'block' : 'none';\n",
              "\n",
              "      async function convertToInteractive(key) {\n",
              "        const element = document.querySelector('#df-d1c3b94d-4b88-4294-8307-e27071525c65');\n",
              "        const dataTable =\n",
              "          await google.colab.kernel.invokeFunction('convertToInteractive',\n",
              "                                                    [key], {});\n",
              "        if (!dataTable) return;\n",
              "\n",
              "        const docLinkHtml = 'Like what you see? Visit the ' +\n",
              "          '<a target=\"_blank\" href=https://colab.research.google.com/notebooks/data_table.ipynb>data table notebook</a>'\n",
              "          + ' to learn more about interactive tables.';\n",
              "        element.innerHTML = '';\n",
              "        dataTable['output_type'] = 'display_data';\n",
              "        await google.colab.output.renderOutput(dataTable, element);\n",
              "        const docLink = document.createElement('div');\n",
              "        docLink.innerHTML = docLinkHtml;\n",
              "        element.appendChild(docLink);\n",
              "      }\n",
              "    </script>\n",
              "  </div>\n",
              "\n",
              "\n",
              "<div id=\"df-1c67470a-d66e-45d2-a878-591606a52920\">\n",
              "  <button class=\"colab-df-quickchart\" onclick=\"quickchart('df-1c67470a-d66e-45d2-a878-591606a52920')\"\n",
              "            title=\"Suggest charts\"\n",
              "            style=\"display:none;\">\n",
              "\n",
              "<svg xmlns=\"http://www.w3.org/2000/svg\" height=\"24px\"viewBox=\"0 0 24 24\"\n",
              "     width=\"24px\">\n",
              "    <g>\n",
              "        <path d=\"M19 3H5c-1.1 0-2 .9-2 2v14c0 1.1.9 2 2 2h14c1.1 0 2-.9 2-2V5c0-1.1-.9-2-2-2zM9 17H7v-7h2v7zm4 0h-2V7h2v10zm4 0h-2v-4h2v4z\"/>\n",
              "    </g>\n",
              "</svg>\n",
              "  </button>\n",
              "\n",
              "<style>\n",
              "  .colab-df-quickchart {\n",
              "      --bg-color: #E8F0FE;\n",
              "      --fill-color: #1967D2;\n",
              "      --hover-bg-color: #E2EBFA;\n",
              "      --hover-fill-color: #174EA6;\n",
              "      --disabled-fill-color: #AAA;\n",
              "      --disabled-bg-color: #DDD;\n",
              "  }\n",
              "\n",
              "  [theme=dark] .colab-df-quickchart {\n",
              "      --bg-color: #3B4455;\n",
              "      --fill-color: #D2E3FC;\n",
              "      --hover-bg-color: #434B5C;\n",
              "      --hover-fill-color: #FFFFFF;\n",
              "      --disabled-bg-color: #3B4455;\n",
              "      --disabled-fill-color: #666;\n",
              "  }\n",
              "\n",
              "  .colab-df-quickchart {\n",
              "    background-color: var(--bg-color);\n",
              "    border: none;\n",
              "    border-radius: 50%;\n",
              "    cursor: pointer;\n",
              "    display: none;\n",
              "    fill: var(--fill-color);\n",
              "    height: 32px;\n",
              "    padding: 0;\n",
              "    width: 32px;\n",
              "  }\n",
              "\n",
              "  .colab-df-quickchart:hover {\n",
              "    background-color: var(--hover-bg-color);\n",
              "    box-shadow: 0 1px 2px rgba(60, 64, 67, 0.3), 0 1px 3px 1px rgba(60, 64, 67, 0.15);\n",
              "    fill: var(--button-hover-fill-color);\n",
              "  }\n",
              "\n",
              "  .colab-df-quickchart-complete:disabled,\n",
              "  .colab-df-quickchart-complete:disabled:hover {\n",
              "    background-color: var(--disabled-bg-color);\n",
              "    fill: var(--disabled-fill-color);\n",
              "    box-shadow: none;\n",
              "  }\n",
              "\n",
              "  .colab-df-spinner {\n",
              "    border: 2px solid var(--fill-color);\n",
              "    border-color: transparent;\n",
              "    border-bottom-color: var(--fill-color);\n",
              "    animation:\n",
              "      spin 1s steps(1) infinite;\n",
              "  }\n",
              "\n",
              "  @keyframes spin {\n",
              "    0% {\n",
              "      border-color: transparent;\n",
              "      border-bottom-color: var(--fill-color);\n",
              "      border-left-color: var(--fill-color);\n",
              "    }\n",
              "    20% {\n",
              "      border-color: transparent;\n",
              "      border-left-color: var(--fill-color);\n",
              "      border-top-color: var(--fill-color);\n",
              "    }\n",
              "    30% {\n",
              "      border-color: transparent;\n",
              "      border-left-color: var(--fill-color);\n",
              "      border-top-color: var(--fill-color);\n",
              "      border-right-color: var(--fill-color);\n",
              "    }\n",
              "    40% {\n",
              "      border-color: transparent;\n",
              "      border-right-color: var(--fill-color);\n",
              "      border-top-color: var(--fill-color);\n",
              "    }\n",
              "    60% {\n",
              "      border-color: transparent;\n",
              "      border-right-color: var(--fill-color);\n",
              "    }\n",
              "    80% {\n",
              "      border-color: transparent;\n",
              "      border-right-color: var(--fill-color);\n",
              "      border-bottom-color: var(--fill-color);\n",
              "    }\n",
              "    90% {\n",
              "      border-color: transparent;\n",
              "      border-bottom-color: var(--fill-color);\n",
              "    }\n",
              "  }\n",
              "</style>\n",
              "\n",
              "  <script>\n",
              "    async function quickchart(key) {\n",
              "      const quickchartButtonEl =\n",
              "        document.querySelector('#' + key + ' button');\n",
              "      quickchartButtonEl.disabled = true;  // To prevent multiple clicks.\n",
              "      quickchartButtonEl.classList.add('colab-df-spinner');\n",
              "      try {\n",
              "        const charts = await google.colab.kernel.invokeFunction(\n",
              "            'suggestCharts', [key], {});\n",
              "      } catch (error) {\n",
              "        console.error('Error during call to suggestCharts:', error);\n",
              "      }\n",
              "      quickchartButtonEl.classList.remove('colab-df-spinner');\n",
              "      quickchartButtonEl.classList.add('colab-df-quickchart-complete');\n",
              "    }\n",
              "    (() => {\n",
              "      let quickchartButtonEl =\n",
              "        document.querySelector('#df-1c67470a-d66e-45d2-a878-591606a52920 button');\n",
              "      quickchartButtonEl.style.display =\n",
              "        google.colab.kernel.accessAllowed ? 'block' : 'none';\n",
              "    })();\n",
              "  </script>\n",
              "</div>\n",
              "\n",
              "    </div>\n",
              "  </div>\n"
            ],
            "application/vnd.google.colaboratory.intrinsic+json": {
              "type": "dataframe",
              "summary": "{\n  \"name\": \"df_corr\",\n  \"rows\": 4,\n  \"fields\": [\n    {\n      \"column\": \"Duration\",\n      \"properties\": {\n        \"dtype\": \"number\",\n        \"std\": 0.6017946133059593,\n        \"min\": -0.15540813258059757,\n        \"max\": 1.0,\n        \"num_unique_values\": 4,\n        \"samples\": [\n          -0.15540813258059757,\n          0.9227166783472459,\n          1.0\n        ],\n        \"semantic_type\": \"\",\n        \"description\": \"\"\n      }\n    },\n    {\n      \"column\": \"Pulse\",\n      \"properties\": {\n        \"dtype\": \"number\",\n        \"std\": 0.5649868629682231,\n        \"min\": -0.15540813258059757,\n        \"max\": 1.0,\n        \"num_unique_values\": 4,\n        \"samples\": [\n          1.0,\n          0.025121130626710137,\n          -0.15540813258059757\n        ],\n        \"semantic_type\": \"\",\n        \"description\": \"\"\n      }\n    },\n    {\n      \"column\": \"Maxpulse\",\n      \"properties\": {\n        \"dtype\": \"number\",\n        \"std\": 0.46922424788761236,\n        \"min\": 0.009402912085577832,\n        \"max\": 1.0,\n        \"num_unique_values\": 4,\n        \"samples\": [\n          0.7865346759989701,\n          0.2038132739055016,\n          0.009402912085577832\n        ],\n        \"semantic_type\": \"\",\n        \"description\": \"\"\n      }\n    },\n    {\n      \"column\": \"Calories\",\n      \"properties\": {\n        \"dtype\": \"number\",\n        \"std\": 0.4953707011623155,\n        \"min\": 0.025121130626710137,\n        \"max\": 1.0,\n        \"num_unique_values\": 4,\n        \"samples\": [\n          0.025121130626710137,\n          1.0,\n          0.9227166783472459\n        ],\n        \"semantic_type\": \"\",\n        \"description\": \"\"\n      }\n    }\n  ]\n}"
            }
          },
          "metadata": {},
          "execution_count": 61
        }
      ]
    },
    {
      "cell_type": "markdown",
      "source": [
        "# **Numpy** Numerical Python\n",
        "\n",
        "Package for scientific computing with Python\n",
        "Resources:\n",
        "1.   [Geeks For Geeks NumPy Interview Questions with Answers](https://www.geeksforgeeks.org/numpy-interview-questions/)\n",
        "2.   List item\n",
        "\n"
      ],
      "metadata": {
        "id": "_LZkFlSSEe2s"
      }
    },
    {
      "cell_type": "markdown",
      "source": [
        "## **Numpy Intro**"
      ],
      "metadata": {
        "id": "LMiZJfUbMSNc"
      }
    },
    {
      "cell_type": "code",
      "source": [
        "import pandas as pd\n",
        "\n",
        "import numpy as np\n",
        "from numpy import pi\n",
        "\n",
        "import matplotlib  as plt\n",
        "\n",
        "#  Attributes of ndarray object\n",
        "a = np.array([[1,2,3], [4,5,6], [7,8,9]])\n",
        "print(\"A:\", a)\n",
        "#\n",
        "b = np.array([(1.5, 2, 3), (4, 5, 6)])\n",
        "print(\"\\nB:\", b)\n",
        "# or\n",
        "c = np.arange(15).reshape(3,5)\n",
        "print(\"\\nC:\", c)\n",
        "# or\n",
        "d = np.arange(10, 50, 5)\n",
        "print(\"\\nD:\", d)\n",
        "# or\n",
        "e = np.linspace(0, 2, 9)                # 9 numbers from 0 to 2\n",
        "print(\"\\nE:\", e)\n",
        "# or\n",
        "f = np.linspace(0, 2 * pi, 100)         # # useful to evaluate function at lots of points\n",
        "print(\"\\nF:\", f)\n",
        "print(b.ndim) # number of axes (dimensions) of the array.\n",
        "print(b.shape) # tuple of integers indicating the size of the array in each dimension\n",
        "print(b.size) # total number of elements of the array\n",
        "print(b.dtype) # types of elements\n",
        "print(b.itemsize)  # size in bytes of each element\n",
        "print(b.data)"
      ],
      "metadata": {
        "colab": {
          "base_uri": "https://localhost:8080/"
        },
        "id": "nmq1l7JYEdXj",
        "outputId": "2d38a612-382d-4cfe-dd49-0c205090b628"
      },
      "execution_count": null,
      "outputs": [
        {
          "output_type": "stream",
          "name": "stdout",
          "text": [
            "A: [[1 2 3]\n",
            " [4 5 6]\n",
            " [7 8 9]]\n",
            "\n",
            "B: [[1.5 2.  3. ]\n",
            " [4.  5.  6. ]]\n",
            "\n",
            "C: [[ 0  1  2  3  4]\n",
            " [ 5  6  7  8  9]\n",
            " [10 11 12 13 14]]\n",
            "\n",
            "D: [10 15 20 25 30 35 40 45]\n",
            "\n",
            "E: [0.   0.25 0.5  0.75 1.   1.25 1.5  1.75 2.  ]\n",
            "\n",
            "F: [0.         0.06346652 0.12693304 0.19039955 0.25386607 0.31733259\n",
            " 0.38079911 0.44426563 0.50773215 0.57119866 0.63466518 0.6981317\n",
            " 0.76159822 0.82506474 0.88853126 0.95199777 1.01546429 1.07893081\n",
            " 1.14239733 1.20586385 1.26933037 1.33279688 1.3962634  1.45972992\n",
            " 1.52319644 1.58666296 1.65012947 1.71359599 1.77706251 1.84052903\n",
            " 1.90399555 1.96746207 2.03092858 2.0943951  2.15786162 2.22132814\n",
            " 2.28479466 2.34826118 2.41172769 2.47519421 2.53866073 2.60212725\n",
            " 2.66559377 2.72906028 2.7925268  2.85599332 2.91945984 2.98292636\n",
            " 3.04639288 3.10985939 3.17332591 3.23679243 3.30025895 3.36372547\n",
            " 3.42719199 3.4906585  3.55412502 3.61759154 3.68105806 3.74452458\n",
            " 3.8079911  3.87145761 3.93492413 3.99839065 4.06185717 4.12532369\n",
            " 4.1887902  4.25225672 4.31572324 4.37918976 4.44265628 4.5061228\n",
            " 4.56958931 4.63305583 4.69652235 4.75998887 4.82345539 4.88692191\n",
            " 4.95038842 5.01385494 5.07732146 5.14078798 5.2042545  5.26772102\n",
            " 5.33118753 5.39465405 5.45812057 5.52158709 5.58505361 5.64852012\n",
            " 5.71198664 5.77545316 5.83891968 5.9023862  5.96585272 6.02931923\n",
            " 6.09278575 6.15625227 6.21971879 6.28318531]\n",
            "2\n",
            "(2, 3)\n",
            "6\n",
            "float64\n",
            "8\n",
            "<memory at 0x7b5241cc64d0>\n"
          ]
        }
      ]
    },
    {
      "cell_type": "code",
      "source": [
        "print(np.zeros((3,3))) # full of zeros that are floats(default)\n",
        "print(np.ones((4,4), dtype = np.int64)) # full of ones that are integers\n",
        "print(np.empty((2,2))) # random numbers"
      ],
      "metadata": {
        "colab": {
          "base_uri": "https://localhost:8080/"
        },
        "id": "2OWSBvKWJJX_",
        "outputId": "a30d9361-7d61-4763-bf55-e612cdc8bc36"
      },
      "execution_count": null,
      "outputs": [
        {
          "output_type": "stream",
          "name": "stdout",
          "text": [
            "[[0. 0. 0.]\n",
            " [0. 0. 0.]\n",
            " [0. 0. 0.]]\n",
            "[[1 1 1 1]\n",
            " [1 1 1 1]\n",
            " [1 1 1 1]\n",
            " [1 1 1 1]]\n",
            "[[4.77476833e-310 0.00000000e+000]\n",
            " [4.77368196e-310 6.92509627e-310]]\n"
          ]
        }
      ]
    },
    {
      "cell_type": "code",
      "source": [
        "a = np.arange(6)                    # 1d array\n",
        "print(a, \"\\n\")\n",
        "\n",
        "b = np.arange(12).reshape(4, 3)     # 2d array 4 rows & 3 columns\n",
        "print(b, \"\\n\")\n",
        "c = np.arange(24).reshape(2, 3, 4)  # 3d array 2 tables, 3 rows & 4 columns\n",
        "print(c)\n"
      ],
      "metadata": {
        "colab": {
          "base_uri": "https://localhost:8080/"
        },
        "id": "BexJEI9cLuS_",
        "outputId": "72f7f141-955c-4ad1-a9cc-242136803e81"
      },
      "execution_count": null,
      "outputs": [
        {
          "output_type": "stream",
          "name": "stdout",
          "text": [
            "[0 1 2 3 4 5] \n",
            "\n",
            "[[ 0  1  2]\n",
            " [ 3  4  5]\n",
            " [ 6  7  8]\n",
            " [ 9 10 11]] \n",
            "\n",
            "[[[ 0  1  2  3]\n",
            "  [ 4  5  6  7]\n",
            "  [ 8  9 10 11]]\n",
            "\n",
            " [[12 13 14 15]\n",
            "  [16 17 18 19]\n",
            "  [20 21 22 23]]]\n"
          ]
        }
      ]
    },
    {
      "cell_type": "markdown",
      "source": [
        "# **Numpy Basic Operations**"
      ],
      "metadata": {
        "id": "0ZJkbKUkMg0g"
      }
    },
    {
      "cell_type": "code",
      "source": [
        "a = np.array([20, 30, 40, 50])  # Define an array\n",
        "b = np.arange(4)               # Create an array [0, 1, 2, 3]\n",
        "\n",
        "c = a - b                      # Element-wise subtraction\n",
        "print(c)                       # Output the result\n",
        "\n",
        "b**2                           # Element-wise square of b\n",
        "10 * np.sin(a)                 # Compute 10 times the sine of each element in a\n",
        "a < 35                         # Check which elements in a are less than 35\n"
      ],
      "metadata": {
        "colab": {
          "base_uri": "https://localhost:8080/"
        },
        "id": "9IBTjyg8Mj3T",
        "outputId": "9cc80fae-5946-4669-93c4-9b6b084cae15"
      },
      "execution_count": null,
      "outputs": [
        {
          "output_type": "stream",
          "name": "stdout",
          "text": [
            "[20 29 38 47]\n"
          ]
        },
        {
          "output_type": "execute_result",
          "data": {
            "text/plain": [
              "array([ True,  True, False, False])"
            ]
          },
          "metadata": {},
          "execution_count": 32
        }
      ]
    },
    {
      "cell_type": "code",
      "source": [
        "A = np.array([[1,2],\n",
        "     [3,4]])\n",
        "B = np.array([[2,2],\n",
        "              [2,2]])\n",
        "A*B\n",
        "A@B"
      ],
      "metadata": {
        "colab": {
          "base_uri": "https://localhost:8080/"
        },
        "id": "2bEtNuR3Me-J",
        "outputId": "26bd481a-d7cb-4427-e04b-0ebbed845a97"
      },
      "execution_count": null,
      "outputs": [
        {
          "output_type": "execute_result",
          "data": {
            "text/plain": [
              "array([[ 6,  6],\n",
              "       [14, 14]])"
            ]
          },
          "metadata": {},
          "execution_count": 36
        }
      ]
    },
    {
      "cell_type": "code",
      "source": [
        "# Random numbers in Numpy\n",
        "a = np.random.random((2,3)) # Random Float between 0 and 1\n",
        "a\n",
        "\n",
        "random_int = np.random.randint(2,9) # Random Integer\n",
        "random_int\n",
        "\n",
        "random_float = np.random.rand(2,3) # Random Float between 0 and 1\n",
        "random_float\n",
        "\n",
        "np.random.seed(0) # Set the seed\n",
        "\n",
        "# Significance\n",
        "# 1. Random Number Generation\n",
        "# 2. Random Sequences\n",
        "# 3. Probability Distributions\n",
        "# 4. Random Choices"
      ],
      "metadata": {
        "id": "TiekIRvoZmPr"
      },
      "execution_count": null,
      "outputs": []
    },
    {
      "cell_type": "code",
      "source": [
        "#  Accessing elements based on specific conditions\n",
        "arr = np.array([1,2,3,4,5,6,7,8])\n",
        "\n",
        "#  Condition with boolean mask\n",
        "condition = (arr > 5)\n",
        "\n",
        "selected = arr[condition]\n",
        "print(selected)"
      ],
      "metadata": {
        "colab": {
          "base_uri": "https://localhost:8080/"
        },
        "id": "0d9XmaVsa10H",
        "outputId": "77561f2d-24b9-4601-80b8-87865d7aee4d"
      },
      "execution_count": null,
      "outputs": [
        {
          "output_type": "stream",
          "name": "stdout",
          "text": [
            "[6 7 8]\n"
          ]
        }
      ]
    },
    {
      "cell_type": "code",
      "source": [
        "# Creating a multidimensional array into 1D\n",
        "#  Using flatten\n",
        "multidimensional = np.array([[1,2,3,4], [5,6,7,8], [9,10,11,12]])\n",
        "onedimensional = multidimensional.flatten()\n",
        "\n",
        "print(multidimensional, \"\\n\", onedimensional)\n",
        "\n",
        "#  Using ravel\n",
        "multidimensional = np.array([[1,2,3,4], [5,6,7,8], [9,10,11,12]])\n",
        "onedimensional = multidimensional.ravel()\n",
        "\n",
        "print(multidimensional, \"\\n\", onedimensional)"
      ],
      "metadata": {
        "colab": {
          "base_uri": "https://localhost:8080/"
        },
        "id": "zCBMLHkybyhn",
        "outputId": "86e4d785-2e26-4001-a10b-e1a88118b690"
      },
      "execution_count": null,
      "outputs": [
        {
          "output_type": "stream",
          "name": "stdout",
          "text": [
            "[[ 1  2  3  4]\n",
            " [ 5  6  7  8]\n",
            " [ 9 10 11 12]] \n",
            " [ 1  2  3  4  5  6  7  8  9 10 11 12]\n",
            "[[ 1  2  3  4]\n",
            " [ 5  6  7  8]\n",
            " [ 9 10 11 12]] \n",
            " [ 1  2  3  4  5  6  7  8  9 10 11 12]\n"
          ]
        }
      ]
    },
    {
      "cell_type": "markdown",
      "source": [
        "## **Indexing, slicing and iterating**"
      ],
      "metadata": {
        "id": "ZJhSIpadcqes"
      }
    },
    {
      "cell_type": "code",
      "source": [
        "A = np.arange(10)**3\n",
        "A"
      ],
      "metadata": {
        "colab": {
          "base_uri": "https://localhost:8080/"
        },
        "id": "HU3B5Wn-cpMK",
        "outputId": "e5bd4363-5871-436c-886a-456fb050ed19"
      },
      "execution_count": null,
      "outputs": [
        {
          "output_type": "execute_result",
          "data": {
            "text/plain": [
              "array([  0,   1,   8,  27,  64, 125, 216, 343, 512, 729])"
            ]
          },
          "metadata": {},
          "execution_count": 57
        }
      ]
    },
    {
      "cell_type": "markdown",
      "source": [
        "# **Matplotlib** :\n",
        "comprehensive library for creating static, animated, and interactive visualizations in Python"
      ],
      "metadata": {
        "id": "4qMeOHdtE6Fc"
      }
    },
    {
      "cell_type": "code",
      "source": [
        "pip install matplotlib"
      ],
      "metadata": {
        "colab": {
          "base_uri": "https://localhost:8080/"
        },
        "id": "abNCkimOGr9V",
        "outputId": "370896d7-ca32-4b4f-a5fa-b997083f7de6"
      },
      "execution_count": null,
      "outputs": [
        {
          "output_type": "stream",
          "name": "stdout",
          "text": [
            "Requirement already satisfied: matplotlib in /usr/local/lib/python3.10/dist-packages (3.8.0)\n",
            "Requirement already satisfied: contourpy>=1.0.1 in /usr/local/lib/python3.10/dist-packages (from matplotlib) (1.3.1)\n",
            "Requirement already satisfied: cycler>=0.10 in /usr/local/lib/python3.10/dist-packages (from matplotlib) (0.12.1)\n",
            "Requirement already satisfied: fonttools>=4.22.0 in /usr/local/lib/python3.10/dist-packages (from matplotlib) (4.55.3)\n",
            "Requirement already satisfied: kiwisolver>=1.0.1 in /usr/local/lib/python3.10/dist-packages (from matplotlib) (1.4.7)\n",
            "Requirement already satisfied: numpy<2,>=1.21 in /usr/local/lib/python3.10/dist-packages (from matplotlib) (1.26.4)\n",
            "Requirement already satisfied: packaging>=20.0 in /usr/local/lib/python3.10/dist-packages (from matplotlib) (24.2)\n",
            "Requirement already satisfied: pillow>=6.2.0 in /usr/local/lib/python3.10/dist-packages (from matplotlib) (11.0.0)\n",
            "Requirement already satisfied: pyparsing>=2.3.1 in /usr/local/lib/python3.10/dist-packages (from matplotlib) (3.2.0)\n",
            "Requirement already satisfied: python-dateutil>=2.7 in /usr/local/lib/python3.10/dist-packages (from matplotlib) (2.8.2)\n",
            "Requirement already satisfied: six>=1.5 in /usr/local/lib/python3.10/dist-packages (from python-dateutil>=2.7->matplotlib) (1.17.0)\n"
          ]
        }
      ]
    },
    {
      "cell_type": "code",
      "source": [
        "import matplotlib.pyplot as plt\n",
        "import numpy as np\n",
        "\n",
        "x = np.linspace(0, 2 *np.pi, 200)      # 200 numbers from 0 to 2*np.pi\n",
        "y = np.sin(x)\n",
        "\n",
        "fig, ax = plt.subplots()\n",
        "ax.plot(x,y)\n",
        "plt.show()"
      ],
      "metadata": {
        "colab": {
          "base_uri": "https://localhost:8080/",
          "height": 430
        },
        "id": "Kgn3G73TG15a",
        "outputId": "314303a8-aa64-4e38-8fa8-09f0fd9a01a8"
      },
      "execution_count": null,
      "outputs": [
        {
          "output_type": "display_data",
          "data": {
            "text/plain": [
              "<Figure size 640x480 with 1 Axes>"
            ],
            "image/png": "[encoded data removed]"
          },
          "metadata": {}
        }
      ]
    },
    {
      "cell_type": "markdown",
      "source": [
        "# **Matplotlib Crash Course Freecode camp**"
      ],
      "metadata": {
        "id": "5OQKNuEwLeIs"
      }
    },
    {
      "cell_type": "code",
      "source": [
        "import matplotlib.pyplot as plt\n",
        "import numpy as np\n",
        "import pandas as pd"
      ],
      "metadata": {
        "id": "ebGACgreLXdQ"
      },
      "execution_count": null,
      "outputs": []
    },
    {
      "cell_type": "markdown",
      "source": [
        "Basic Graphs\n",
        "1.   Line Graph\n",
        "\n",
        "\n"
      ],
      "metadata": {
        "id": "sTw6EkIrLlkp"
      }
    },
    {
      "cell_type": "code",
      "source": [
        "x = [0,1,2,3,4]\n",
        "y = [x*2 for x in x]\n",
        "\n",
        "# Resize the grah\n",
        "plt.figure(figsize=(4,2),dpi=100)\n",
        "\n",
        "# Line 1\n",
        "\n",
        "# Keyword Argument Notation\n",
        "# plt.plot(x,y,\n",
        "#          label = \"y = 2x\",\n",
        "#          color = 'red',\n",
        "#          linewidth=3,\n",
        "#          linestyle = '--',\n",
        "#          marker='.',\n",
        "#          markersize=10)\n",
        "\n",
        "# Shorthand notation\n",
        "# fmt = '[color],[marker],[line]'\n",
        "plt.plot(x,y,\n",
        "         'b.--',\n",
        "         label='y = 2x')\n",
        "\n",
        "#  Line 2\n",
        "# Select interval we want to plot points at\n",
        "x2= np.arange(0,4.5,0.5)\n",
        "\n",
        "# Plot part of the graph as a line graph\n",
        "plt.plot(x2[:6],\n",
        "         x2[:6]**2,\n",
        "         'r',\n",
        "         label=\"x^2\")\n",
        "# Plot remainder of the graph\n",
        "plt.plot(x2[5:],\n",
        "         x2[5:]**2,\n",
        "         'r--')\n",
        "\n",
        "#  Adding title, labels and ticks\n",
        "plt.title(\"Simple Line Plot\", fontdict = { #\"fontname\": \"Times New Roman\",\n",
        "                                          \"fontsize\":15})\n",
        "plt.xlabel(\"X Label\")\n",
        "plt.ylabel(\"Y Label\")\n",
        "\n",
        "plt.xticks([0,1,2,3,4])\n",
        "# plt.yticks([0,2,4,6,8])\n",
        "\n",
        "plt.legend()\n",
        "\n",
        "#  Save the graph\n",
        "plt.savefig(\"mygraph.png\", dpi=300)\n",
        "\n",
        "plt.show() # shows the graph without the default settings"
      ],
      "metadata": {
        "colab": {
          "base_uri": "https://localhost:8080/",
          "height": 275
        },
        "id": "433ottAtLi67",
        "outputId": "beab9fb1-5db3-4ed4-d6eb-aaae300c7fa7"
      },
      "execution_count": null,
      "outputs": [
        {
          "output_type": "stream",
          "name": "stdout",
          "text": [
            "[0.  0.5 1.  1.5 2.  2.5 3.  3.5 4. ]\n"
          ]
        },
        {
          "output_type": "display_data",
          "data": {
            "text/plain": [
              "<Figure size 400x200 with 1 Axes>"
            ],
            "image/png": "[encoded data removed]"
          },
          "metadata": {}
        }
      ]
    },
    {
      "cell_type": "markdown",
      "source": [
        "# Bar Graph"
      ],
      "metadata": {
        "id": "dxGqddkqdbQy"
      }
    },
    {
      "cell_type": "code",
      "source": [
        "label = [\"A\",\"B\",\"C\"]\n",
        "values = [1, 4,2]\n",
        "\n",
        "bars = plt.bar(label,values)\n",
        "\n",
        "plt.figure(figsize=(4,2))\n",
        "\n",
        "patterns = ['/', 'o', '*']\n",
        "for bar in bars:\n",
        "  bar.set_hatch(patterns.pop())\n",
        "\n",
        "# bars[0].set_hatch('/')\n",
        "# bars[1].set_hatch('o')\n",
        "# bars[2].set_hatch('*')\n",
        "\n",
        "# bar[0].set_color('r')\n",
        "# bar[1].set_color('g')\n",
        "# bar[2].set_color('b')\n",
        "\n",
        "plt.show()"
      ],
      "metadata": {
        "colab": {
          "base_uri": "https://localhost:8080/",
          "height": 447
        },
        "id": "e0UbdXXodR8A",
        "outputId": "3a7dd8be-7371-4344-8cf9-58ab8040d9e6"
      },
      "execution_count": null,
      "outputs": [
        {
          "output_type": "display_data",
          "data": {
            "text/plain": [
              "<Figure size 640x480 with 1 Axes>"
            ],
            "image/png": "[encoded data removed]"
          },
          "metadata": {}
        },
        {
          "output_type": "display_data",
          "data": {
            "text/plain": [
              "<Figure size 400x200 with 0 Axes>"
            ]
          },
          "metadata": {}
        }
      ]
    },
    {
      "cell_type": "markdown",
      "source": [
        "Real World Example"
      ],
      "metadata": {
        "id": "P-zT9l0vfPXe"
      }
    },
    {
      "cell_type": "code",
      "source": [
        "# Importing the libraries\n",
        "import matplotlib.pyplot as plt\n",
        "import numpy as np\n",
        "import pandas as pd"
      ],
      "metadata": {
        "id": "u_tdZ2DJfO-8"
      },
      "execution_count": null,
      "outputs": []
    },
    {
      "cell_type": "code",
      "source": [
        "gas"
      ],
      "metadata": {
        "colab": {
          "base_uri": "https://localhost:8080/",
          "height": 662
        },
        "id": "G9UoQ2Evnbwl",
        "outputId": "eb1f3ff5-70e6-4973-92ae-486475b54916"
      },
      "execution_count": null,
      "outputs": [
        {
          "output_type": "execute_result",
          "data": {
            "text/plain": [
              "    Year  Australia  Canada  France  Germany  Italy  Japan  Mexico  \\\n",
              "0   1990        NaN    1.87    3.63     2.65   4.59   3.16    1.00   \n",
              "1   1991       1.96    1.92    3.45     2.90   4.50   3.46    1.30   \n",
              "2   1992       1.89    1.73    3.56     3.27   4.53   3.58    1.50   \n",
              "3   1993       1.73    1.57    3.41     3.07   3.68   4.16    1.56   \n",
              "4   1994       1.84    1.45    3.59     3.52   3.70   4.36    1.48   \n",
              "5   1995       1.95    1.53    4.26     3.96   4.00   4.43    1.11   \n",
              "6   1996       2.12    1.61    4.41     3.94   4.39   3.64    1.25   \n",
              "7   1997       2.05    1.62    4.00     3.53   4.07   3.26    1.47   \n",
              "8   1998       1.63    1.38    3.87     3.34   3.84   2.82    1.49   \n",
              "9   1999       1.72    1.52    3.85     3.42   3.87   3.27    1.79   \n",
              "10  2000       1.94    1.86    3.80     3.45   3.77   3.65    2.01   \n",
              "11  2001       1.71    1.72    3.51     3.40   3.57   3.27    2.20   \n",
              "12  2002       1.76    1.69    3.62     3.67   3.74   3.15    2.24   \n",
              "13  2003       2.19    1.99    4.35     4.59   4.53   3.47    2.04   \n",
              "14  2004       2.72    2.37    4.99     5.24   5.29   3.93    2.03   \n",
              "15  2005       3.23    2.89    5.46     5.66   5.74   4.28    2.22   \n",
              "16  2006       3.54    3.26    5.88     6.03   6.10   4.47    2.31   \n",
              "17  2007       3.85    3.59    6.60     6.88   6.73   4.49    2.40   \n",
              "18  2008       4.45    4.08    7.51     7.75   7.63   5.74    2.45   \n",
              "\n",
              "    South Korea    UK   USA  \n",
              "0          2.05  2.82  1.16  \n",
              "1          2.49  3.01  1.14  \n",
              "2          2.65  3.06  1.13  \n",
              "3          2.88  2.84  1.11  \n",
              "4          2.87  2.99  1.11  \n",
              "5          2.94  3.21  1.15  \n",
              "6          3.18  3.34  1.23  \n",
              "7          3.34  3.83  1.23  \n",
              "8          3.04  4.06  1.06  \n",
              "9          3.80  4.29  1.17  \n",
              "10         4.18  4.58  1.51  \n",
              "11         3.76  4.13  1.46  \n",
              "12         3.84  4.16  1.36  \n",
              "13         4.11  4.70  1.59  \n",
              "14         4.51  5.56  1.88  \n",
              "15         5.28  5.97  2.30  \n",
              "16         5.92  6.36  2.59  \n",
              "17         6.21  7.13  2.80  \n",
              "18         5.83  7.42  3.27  "
            ],
            "text/html": [
              "\n",
              "  <div id=\"df-6ca0663b-aff5-4b3e-9843-29e011d0356f\" class=\"colab-df-container\">\n",
              "    <div>\n",
              "<style scoped>\n",
              "    .dataframe tbody tr th:only-of-type {\n",
              "        vertical-align: middle;\n",
              "    }\n",
              "\n",
              "    .dataframe tbody tr th {\n",
              "        vertical-align: top;\n",
              "    }\n",
              "\n",
              "    .dataframe thead th {\n",
              "        text-align: right;\n",
              "    }\n",
              "</style>\n",
              "<table border=\"1\" class=\"dataframe\">\n",
              "  <thead>\n",
              "    <tr style=\"text-align: right;\">\n",
              "      <th></th>\n",
              "      <th>Year</th>\n",
              "      <th>Australia</th>\n",
              "      <th>Canada</th>\n",
              "      <th>France</th>\n",
              "      <th>Germany</th>\n",
              "      <th>Italy</th>\n",
              "      <th>Japan</th>\n",
              "      <th>Mexico</th>\n",
              "      <th>South Korea</th>\n",
              "      <th>UK</th>\n",
              "      <th>USA</th>\n",
              "    </tr>\n",
              "  </thead>\n",
              "  <tbody>\n",
              "    <tr>\n",
              "      <th>0</th>\n",
              "      <td>1990</td>\n",
              "      <td>NaN</td>\n",
              "      <td>1.87</td>\n",
              "      <td>3.63</td>\n",
              "      <td>2.65</td>\n",
              "      <td>4.59</td>\n",
              "      <td>3.16</td>\n",
              "      <td>1.00</td>\n",
              "      <td>2.05</td>\n",
              "      <td>2.82</td>\n",
              "      <td>1.16</td>\n",
              "    </tr>\n",
              "    <tr>\n",
              "      <th>1</th>\n",
              "      <td>1991</td>\n",
              "      <td>1.96</td>\n",
              "      <td>1.92</td>\n",
              "      <td>3.45</td>\n",
              "      <td>2.90</td>\n",
              "      <td>4.50</td>\n",
              "      <td>3.46</td>\n",
              "      <td>1.30</td>\n",
              "      <td>2.49</td>\n",
              "      <td>3.01</td>\n",
              "      <td>1.14</td>\n",
              "    </tr>\n",
              "    <tr>\n",
              "      <th>2</th>\n",
              "      <td>1992</td>\n",
              "      <td>1.89</td>\n",
              "      <td>1.73</td>\n",
              "      <td>3.56</td>\n",
              "      <td>3.27</td>\n",
              "      <td>4.53</td>\n",
              "      <td>3.58</td>\n",
              "      <td>1.50</td>\n",
              "      <td>2.65</td>\n",
              "      <td>3.06</td>\n",
              "      <td>1.13</td>\n",
              "    </tr>\n",
              "    <tr>\n",
              "      <th>3</th>\n",
              "      <td>1993</td>\n",
              "      <td>1.73</td>\n",
              "      <td>1.57</td>\n",
              "      <td>3.41</td>\n",
              "      <td>3.07</td>\n",
              "      <td>3.68</td>\n",
              "      <td>4.16</td>\n",
              "      <td>1.56</td>\n",
              "      <td>2.88</td>\n",
              "      <td>2.84</td>\n",
              "      <td>1.11</td>\n",
              "    </tr>\n",
              "    <tr>\n",
              "      <th>4</th>\n",
              "      <td>1994</td>\n",
              "      <td>1.84</td>\n",
              "      <td>1.45</td>\n",
              "      <td>3.59</td>\n",
              "      <td>3.52</td>\n",
              "      <td>3.70</td>\n",
              "      <td>4.36</td>\n",
              "      <td>1.48</td>\n",
              "      <td>2.87</td>\n",
              "      <td>2.99</td>\n",
              "      <td>1.11</td>\n",
              "    </tr>\n",
              "    <tr>\n",
              "      <th>5</th>\n",
              "      <td>1995</td>\n",
              "      <td>1.95</td>\n",
              "      <td>1.53</td>\n",
              "      <td>4.26</td>\n",
              "      <td>3.96</td>\n",
              "      <td>4.00</td>\n",
              "      <td>4.43</td>\n",
              "      <td>1.11</td>\n",
              "      <td>2.94</td>\n",
              "      <td>3.21</td>\n",
              "      <td>1.15</td>\n",
              "    </tr>\n",
              "    <tr>\n",
              "      <th>6</th>\n",
              "      <td>1996</td>\n",
              "      <td>2.12</td>\n",
              "      <td>1.61</td>\n",
              "      <td>4.41</td>\n",
              "      <td>3.94</td>\n",
              "      <td>4.39</td>\n",
              "      <td>3.64</td>\n",
              "      <td>1.25</td>\n",
              "      <td>3.18</td>\n",
              "      <td>3.34</td>\n",
              "      <td>1.23</td>\n",
              "    </tr>\n",
              "    <tr>\n",
              "      <th>7</th>\n",
              "      <td>1997</td>\n",
              "      <td>2.05</td>\n",
              "      <td>1.62</td>\n",
              "      <td>4.00</td>\n",
              "      <td>3.53</td>\n",
              "      <td>4.07</td>\n",
              "      <td>3.26</td>\n",
              "      <td>1.47</td>\n",
              "      <td>3.34</td>\n",
              "      <td>3.83</td>\n",
              "      <td>1.23</td>\n",
              "    </tr>\n",
              "    <tr>\n",
              "      <th>8</th>\n",
              "      <td>1998</td>\n",
              "      <td>1.63</td>\n",
              "      <td>1.38</td>\n",
              "      <td>3.87</td>\n",
              "      <td>3.34</td>\n",
              "      <td>3.84</td>\n",
              "      <td>2.82</td>\n",
              "      <td>1.49</td>\n",
              "      <td>3.04</td>\n",
              "      <td>4.06</td>\n",
              "      <td>1.06</td>\n",
              "    </tr>\n",
              "    <tr>\n",
              "      <th>9</th>\n",
              "      <td>1999</td>\n",
              "      <td>1.72</td>\n",
              "      <td>1.52</td>\n",
              "      <td>3.85</td>\n",
              "      <td>3.42</td>\n",
              "      <td>3.87</td>\n",
              "      <td>3.27</td>\n",
              "      <td>1.79</td>\n",
              "      <td>3.80</td>\n",
              "      <td>4.29</td>\n",
              "      <td>1.17</td>\n",
              "    </tr>\n",
              "    <tr>\n",
              "      <th>10</th>\n",
              "      <td>2000</td>\n",
              "      <td>1.94</td>\n",
              "      <td>1.86</td>\n",
              "      <td>3.80</td>\n",
              "      <td>3.45</td>\n",
              "      <td>3.77</td>\n",
              "      <td>3.65</td>\n",
              "      <td>2.01</td>\n",
              "      <td>4.18</td>\n",
              "      <td>4.58</td>\n",
              "      <td>1.51</td>\n",
              "    </tr>\n",
              "    <tr>\n",
              "      <th>11</th>\n",
              "      <td>2001</td>\n",
              "      <td>1.71</td>\n",
              "      <td>1.72</td>\n",
              "      <td>3.51</td>\n",
              "      <td>3.40</td>\n",
              "      <td>3.57</td>\n",
              "      <td>3.27</td>\n",
              "      <td>2.20</td>\n",
              "      <td>3.76</td>\n",
              "      <td>4.13</td>\n",
              "      <td>1.46</td>\n",
              "    </tr>\n",
              "    <tr>\n",
              "      <th>12</th>\n",
              "      <td>2002</td>\n",
              "      <td>1.76</td>\n",
              "      <td>1.69</td>\n",
              "      <td>3.62</td>\n",
              "      <td>3.67</td>\n",
              "      <td>3.74</td>\n",
              "      <td>3.15</td>\n",
              "      <td>2.24</td>\n",
              "      <td>3.84</td>\n",
              "      <td>4.16</td>\n",
              "      <td>1.36</td>\n",
              "    </tr>\n",
              "    <tr>\n",
              "      <th>13</th>\n",
              "      <td>2003</td>\n",
              "      <td>2.19</td>\n",
              "      <td>1.99</td>\n",
              "      <td>4.35</td>\n",
              "      <td>4.59</td>\n",
              "      <td>4.53</td>\n",
              "      <td>3.47</td>\n",
              "      <td>2.04</td>\n",
              "      <td>4.11</td>\n",
              "      <td>4.70</td>\n",
              "      <td>1.59</td>\n",
              "    </tr>\n",
              "    <tr>\n",
              "      <th>14</th>\n",
              "      <td>2004</td>\n",
              "      <td>2.72</td>\n",
              "      <td>2.37</td>\n",
              "      <td>4.99</td>\n",
              "      <td>5.24</td>\n",
              "      <td>5.29</td>\n",
              "      <td>3.93</td>\n",
              "      <td>2.03</td>\n",
              "      <td>4.51</td>\n",
              "      <td>5.56</td>\n",
              "      <td>1.88</td>\n",
              "    </tr>\n",
              "    <tr>\n",
              "      <th>15</th>\n",
              "      <td>2005</td>\n",
              "      <td>3.23</td>\n",
              "      <td>2.89</td>\n",
              "      <td>5.46</td>\n",
              "      <td>5.66</td>\n",
              "      <td>5.74</td>\n",
              "      <td>4.28</td>\n",
              "      <td>2.22</td>\n",
              "      <td>5.28</td>\n",
              "      <td>5.97</td>\n",
              "      <td>2.30</td>\n",
              "    </tr>\n",
              "    <tr>\n",
              "      <th>16</th>\n",
              "      <td>2006</td>\n",
              "      <td>3.54</td>\n",
              "      <td>3.26</td>\n",
              "      <td>5.88</td>\n",
              "      <td>6.03</td>\n",
              "      <td>6.10</td>\n",
              "      <td>4.47</td>\n",
              "      <td>2.31</td>\n",
              "      <td>5.92</td>\n",
              "      <td>6.36</td>\n",
              "      <td>2.59</td>\n",
              "    </tr>\n",
              "    <tr>\n",
              "      <th>17</th>\n",
              "      <td>2007</td>\n",
              "      <td>3.85</td>\n",
              "      <td>3.59</td>\n",
              "      <td>6.60</td>\n",
              "      <td>6.88</td>\n",
              "      <td>6.73</td>\n",
              "      <td>4.49</td>\n",
              "      <td>2.40</td>\n",
              "      <td>6.21</td>\n",
              "      <td>7.13</td>\n",
              "      <td>2.80</td>\n",
              "    </tr>\n",
              "    <tr>\n",
              "      <th>18</th>\n",
              "      <td>2008</td>\n",
              "      <td>4.45</td>\n",
              "      <td>4.08</td>\n",
              "      <td>7.51</td>\n",
              "      <td>7.75</td>\n",
              "      <td>7.63</td>\n",
              "      <td>5.74</td>\n",
              "      <td>2.45</td>\n",
              "      <td>5.83</td>\n",
              "      <td>7.42</td>\n",
              "      <td>3.27</td>\n",
              "    </tr>\n",
              "  </tbody>\n",
              "</table>\n",
              "</div>\n",
              "    <div class=\"colab-df-buttons\">\n",
              "\n",
              "  <div class=\"colab-df-container\">\n",
              "    <button class=\"colab-df-convert\" onclick=\"convertToInteractive('df-6ca0663b-aff5-4b3e-9843-29e011d0356f')\"\n",
              "            title=\"Convert this dataframe to an interactive table.\"\n",
              "            style=\"display:none;\">\n",
              "\n",
              "  <svg xmlns=\"http://www.w3.org/2000/svg\" height=\"24px\" viewBox=\"0 -960 960 960\">\n",
              "    <path d=\"M120-120v-720h720v720H120Zm60-500h600v-160H180v160Zm220 220h160v-160H400v160Zm0 220h160v-160H400v160ZM180-400h160v-160H180v160Zm440 0h160v-160H620v160ZM180-180h160v-160H180v160Zm440 0h160v-160H620v160Z\"/>\n",
              "  </svg>\n",
              "    </button>\n",
              "\n",
              "  <style>\n",
              "    .colab-df-container {\n",
              "      display:flex;\n",
              "      gap: 12px;\n",
              "    }\n",
              "\n",
              "    .colab-df-convert {\n",
              "      background-color: #E8F0FE;\n",
              "      border: none;\n",
              "      border-radius: 50%;\n",
              "      cursor: pointer;\n",
              "      display: none;\n",
              "      fill: #1967D2;\n",
              "      height: 32px;\n",
              "      padding: 0 0 0 0;\n",
              "      width: 32px;\n",
              "    }\n",
              "\n",
              "    .colab-df-convert:hover {\n",
              "      background-color: #E2EBFA;\n",
              "      box-shadow: 0px 1px 2px rgba(60, 64, 67, 0.3), 0px 1px 3px 1px rgba(60, 64, 67, 0.15);\n",
              "      fill: #174EA6;\n",
              "    }\n",
              "\n",
              "    .colab-df-buttons div {\n",
              "      margin-bottom: 4px;\n",
              "    }\n",
              "\n",
              "    [theme=dark] .colab-df-convert {\n",
              "      background-color: #3B4455;\n",
              "      fill: #D2E3FC;\n",
              "    }\n",
              "\n",
              "    [theme=dark] .colab-df-convert:hover {\n",
              "      background-color: #434B5C;\n",
              "      box-shadow: 0px 1px 3px 1px rgba(0, 0, 0, 0.15);\n",
              "      filter: drop-shadow(0px 1px 2px rgba(0, 0, 0, 0.3));\n",
              "      fill: #FFFFFF;\n",
              "    }\n",
              "  </style>\n",
              "\n",
              "    <script>\n",
              "      const buttonEl =\n",
              "        document.querySelector('#df-6ca0663b-aff5-4b3e-9843-29e011d0356f button.colab-df-convert');\n",
              "      buttonEl.style.display =\n",
              "        google.colab.kernel.accessAllowed ? 'block' : 'none';\n",
              "\n",
              "      async function convertToInteractive(key) {\n",
              "        const element = document.querySelector('#df-6ca0663b-aff5-4b3e-9843-29e011d0356f');\n",
              "        const dataTable =\n",
              "          await google.colab.kernel.invokeFunction('convertToInteractive',\n",
              "                                                    [key], {});\n",
              "        if (!dataTable) return;\n",
              "\n",
              "        const docLinkHtml = 'Like what you see? Visit the ' +\n",
              "          '<a target=\"_blank\" href=https://colab.research.google.com/notebooks/data_table.ipynb>data table notebook</a>'\n",
              "          + ' to learn more about interactive tables.';\n",
              "        element.innerHTML = '';\n",
              "        dataTable['output_type'] = 'display_data';\n",
              "        await google.colab.output.renderOutput(dataTable, element);\n",
              "        const docLink = document.createElement('div');\n",
              "        docLink.innerHTML = docLinkHtml;\n",
              "        element.appendChild(docLink);\n",
              "      }\n",
              "    </script>\n",
              "  </div>\n",
              "\n",
              "\n",
              "<div id=\"df-44c5ee2d-7804-4057-a948-c6ac782e1590\">\n",
              "  <button class=\"colab-df-quickchart\" onclick=\"quickchart('df-44c5ee2d-7804-4057-a948-c6ac782e1590')\"\n",
              "            title=\"Suggest charts\"\n",
              "            style=\"display:none;\">\n",
              "\n",
              "<svg xmlns=\"http://www.w3.org/2000/svg\" height=\"24px\"viewBox=\"0 0 24 24\"\n",
              "     width=\"24px\">\n",
              "    <g>\n",
              "        <path d=\"M19 3H5c-1.1 0-2 .9-2 2v14c0 1.1.9 2 2 2h14c1.1 0 2-.9 2-2V5c0-1.1-.9-2-2-2zM9 17H7v-7h2v7zm4 0h-2V7h2v10zm4 0h-2v-4h2v4z\"/>\n",
              "    </g>\n",
              "</svg>\n",
              "  </button>\n",
              "\n",
              "<style>\n",
              "  .colab-df-quickchart {\n",
              "      --bg-color: #E8F0FE;\n",
              "      --fill-color: #1967D2;\n",
              "      --hover-bg-color: #E2EBFA;\n",
              "      --hover-fill-color: #174EA6;\n",
              "      --disabled-fill-color: #AAA;\n",
              "      --disabled-bg-color: #DDD;\n",
              "  }\n",
              "\n",
              "  [theme=dark] .colab-df-quickchart {\n",
              "      --bg-color: #3B4455;\n",
              "      --fill-color: #D2E3FC;\n",
              "      --hover-bg-color: #434B5C;\n",
              "      --hover-fill-color: #FFFFFF;\n",
              "      --disabled-bg-color: #3B4455;\n",
              "      --disabled-fill-color: #666;\n",
              "  }\n",
              "\n",
              "  .colab-df-quickchart {\n",
              "    background-color: var(--bg-color);\n",
              "    border: none;\n",
              "    border-radius: 50%;\n",
              "    cursor: pointer;\n",
              "    display: none;\n",
              "    fill: var(--fill-color);\n",
              "    height: 32px;\n",
              "    padding: 0;\n",
              "    width: 32px;\n",
              "  }\n",
              "\n",
              "  .colab-df-quickchart:hover {\n",
              "    background-color: var(--hover-bg-color);\n",
              "    box-shadow: 0 1px 2px rgba(60, 64, 67, 0.3), 0 1px 3px 1px rgba(60, 64, 67, 0.15);\n",
              "    fill: var(--button-hover-fill-color);\n",
              "  }\n",
              "\n",
              "  .colab-df-quickchart-complete:disabled,\n",
              "  .colab-df-quickchart-complete:disabled:hover {\n",
              "    background-color: var(--disabled-bg-color);\n",
              "    fill: var(--disabled-fill-color);\n",
              "    box-shadow: none;\n",
              "  }\n",
              "\n",
              "  .colab-df-spinner {\n",
              "    border: 2px solid var(--fill-color);\n",
              "    border-color: transparent;\n",
              "    border-bottom-color: var(--fill-color);\n",
              "    animation:\n",
              "      spin 1s steps(1) infinite;\n",
              "  }\n",
              "\n",
              "  @keyframes spin {\n",
              "    0% {\n",
              "      border-color: transparent;\n",
              "      border-bottom-color: var(--fill-color);\n",
              "      border-left-color: var(--fill-color);\n",
              "    }\n",
              "    20% {\n",
              "      border-color: transparent;\n",
              "      border-left-color: var(--fill-color);\n",
              "      border-top-color: var(--fill-color);\n",
              "    }\n",
              "    30% {\n",
              "      border-color: transparent;\n",
              "      border-left-color: var(--fill-color);\n",
              "      border-top-color: var(--fill-color);\n",
              "      border-right-color: var(--fill-color);\n",
              "    }\n",
              "    40% {\n",
              "      border-color: transparent;\n",
              "      border-right-color: var(--fill-color);\n",
              "      border-top-color: var(--fill-color);\n",
              "    }\n",
              "    60% {\n",
              "      border-color: transparent;\n",
              "      border-right-color: var(--fill-color);\n",
              "    }\n",
              "    80% {\n",
              "      border-color: transparent;\n",
              "      border-right-color: var(--fill-color);\n",
              "      border-bottom-color: var(--fill-color);\n",
              "    }\n",
              "    90% {\n",
              "      border-color: transparent;\n",
              "      border-bottom-color: var(--fill-color);\n",
              "    }\n",
              "  }\n",
              "</style>\n",
              "\n",
              "  <script>\n",
              "    async function quickchart(key) {\n",
              "      const quickchartButtonEl =\n",
              "        document.querySelector('#' + key + ' button');\n",
              "      quickchartButtonEl.disabled = true;  // To prevent multiple clicks.\n",
              "      quickchartButtonEl.classList.add('colab-df-spinner');\n",
              "      try {\n",
              "        const charts = await google.colab.kernel.invokeFunction(\n",
              "            'suggestCharts', [key], {});\n",
              "      } catch (error) {\n",
              "        console.error('Error during call to suggestCharts:', error);\n",
              "      }\n",
              "      quickchartButtonEl.classList.remove('colab-df-spinner');\n",
              "      quickchartButtonEl.classList.add('colab-df-quickchart-complete');\n",
              "    }\n",
              "    (() => {\n",
              "      let quickchartButtonEl =\n",
              "        document.querySelector('#df-44c5ee2d-7804-4057-a948-c6ac782e1590 button');\n",
              "      quickchartButtonEl.style.display =\n",
              "        google.colab.kernel.accessAllowed ? 'block' : 'none';\n",
              "    })();\n",
              "  </script>\n",
              "</div>\n",
              "\n",
              "  <div id=\"id_32d0bba0-1d34-45f7-a9cb-801d1bb8cac6\">\n",
              "    <style>\n",
              "      .colab-df-generate {\n",
              "        background-color: #E8F0FE;\n",
              "        border: none;\n",
              "        border-radius: 50%;\n",
              "        cursor: pointer;\n",
              "        display: none;\n",
              "        fill: #1967D2;\n",
              "        height: 32px;\n",
              "        padding: 0 0 0 0;\n",
              "        width: 32px;\n",
              "      }\n",
              "\n",
              "      .colab-df-generate:hover {\n",
              "        background-color: #E2EBFA;\n",
              "        box-shadow: 0px 1px 2px rgba(60, 64, 67, 0.3), 0px 1px 3px 1px rgba(60, 64, 67, 0.15);\n",
              "        fill: #174EA6;\n",
              "      }\n",
              "\n",
              "      [theme=dark] .colab-df-generate {\n",
              "        background-color: #3B4455;\n",
              "        fill: #D2E3FC;\n",
              "      }\n",
              "\n",
              "      [theme=dark] .colab-df-generate:hover {\n",
              "        background-color: #434B5C;\n",
              "        box-shadow: 0px 1px 3px 1px rgba(0, 0, 0, 0.15);\n",
              "        filter: drop-shadow(0px 1px 2px rgba(0, 0, 0, 0.3));\n",
              "        fill: #FFFFFF;\n",
              "      }\n",
              "    </style>\n",
              "    <button class=\"colab-df-generate\" onclick=\"generateWithVariable('gas')\"\n",
              "            title=\"Generate code using this dataframe.\"\n",
              "            style=\"display:none;\">\n",
              "\n",
              "  <svg xmlns=\"http://www.w3.org/2000/svg\" height=\"24px\"viewBox=\"0 0 24 24\"\n",
              "       width=\"24px\">\n",
              "    <path d=\"M7,19H8.4L18.45,9,17,7.55,7,17.6ZM5,21V16.75L18.45,3.32a2,2,0,0,1,2.83,0l1.4,1.43a1.91,1.91,0,0,1,.58,1.4,1.91,1.91,0,0,1-.58,1.4L9.25,21ZM18.45,9,17,7.55Zm-12,3A5.31,5.31,0,0,0,4.9,8.1,5.31,5.31,0,0,0,1,6.5,5.31,5.31,0,0,0,4.9,4.9,5.31,5.31,0,0,0,6.5,1,5.31,5.31,0,0,0,8.1,4.9,5.31,5.31,0,0,0,12,6.5,5.46,5.46,0,0,0,6.5,12Z\"/>\n",
              "  </svg>\n",
              "    </button>\n",
              "    <script>\n",
              "      (() => {\n",
              "      const buttonEl =\n",
              "        document.querySelector('#id_32d0bba0-1d34-45f7-a9cb-801d1bb8cac6 button.colab-df-generate');\n",
              "      buttonEl.style.display =\n",
              "        google.colab.kernel.accessAllowed ? 'block' : 'none';\n",
              "\n",
              "      buttonEl.onclick = () => {\n",
              "        google.colab.notebook.generateWithVariable('gas');\n",
              "      }\n",
              "      })();\n",
              "    </script>\n",
              "  </div>\n",
              "\n",
              "    </div>\n",
              "  </div>\n"
            ],
            "application/vnd.google.colaboratory.intrinsic+json": {
              "type": "dataframe",
              "variable_name": "gas",
              "summary": "{\n  \"name\": \"gas\",\n  \"rows\": 19,\n  \"fields\": [\n    {\n      \"column\": \"Year\",\n      \"properties\": {\n        \"dtype\": \"number\",\n        \"std\": 5,\n        \"min\": 1990,\n        \"max\": 2008,\n        \"num_unique_values\": 19,\n        \"samples\": [\n          1990,\n          1995,\n          2001\n        ],\n        \"semantic_type\": \"\",\n        \"description\": \"\"\n      }\n    },\n    {\n      \"column\": \"Australia\",\n      \"properties\": {\n        \"dtype\": \"number\",\n        \"std\": 0.8459306666686447,\n        \"min\": 1.63,\n        \"max\": 4.45,\n        \"num_unique_values\": 18,\n        \"samples\": [\n          1.96,\n          1.89,\n          1.72\n        ],\n        \"semantic_type\": \"\",\n        \"description\": \"\"\n      }\n    },\n    {\n      \"column\": \"Canada\",\n      \"properties\": {\n        \"dtype\": \"number\",\n        \"std\": 0.7866176018002574,\n        \"min\": 1.38,\n        \"max\": 4.08,\n        \"num_unique_values\": 19,\n        \"samples\": [\n          1.87,\n          1.53,\n          1.72\n        ],\n        \"semantic_type\": \"\",\n        \"description\": \"\"\n      }\n    },\n    {\n      \"column\": \"France\",\n      \"properties\": {\n        \"dtype\": \"number\",\n        \"std\": 1.1675310081410086,\n        \"min\": 3.41,\n        \"max\": 7.51,\n        \"num_unique_values\": 19,\n        \"samples\": [\n          3.63,\n          4.26,\n          3.51\n        ],\n        \"semantic_type\": \"\",\n        \"description\": \"\"\n      }\n    },\n    {\n      \"column\": \"Germany\",\n      \"properties\": {\n        \"dtype\": \"number\",\n        \"std\": 1.4257488029533139,\n        \"min\": 2.65,\n        \"max\": 7.75,\n        \"num_unique_values\": 19,\n        \"samples\": [\n          2.65,\n          3.96,\n          3.4\n        ],\n        \"semantic_type\": \"\",\n        \"description\": \"\"\n      }\n    },\n    {\n      \"column\": \"Italy\",\n      \"properties\": {\n        \"dtype\": \"number\",\n        \"std\": 1.1466100557221015,\n        \"min\": 3.57,\n        \"max\": 7.63,\n        \"num_unique_values\": 18,\n        \"samples\": [\n          4.59,\n          4.5,\n          3.84\n        ],\n        \"semantic_type\": \"\",\n        \"description\": \"\"\n      }\n    },\n    {\n      \"column\": \"Japan\",\n      \"properties\": {\n        \"dtype\": \"number\",\n        \"std\": 0.6966146207370051,\n        \"min\": 2.82,\n        \"max\": 5.74,\n        \"num_unique_values\": 18,\n        \"samples\": [\n          3.16,\n          3.46,\n          2.82\n        ],\n        \"semantic_type\": \"\",\n        \"description\": \"\"\n      }\n    },\n    {\n      \"column\": \"Mexico\",\n      \"properties\": {\n        \"dtype\": \"number\",\n        \"std\": 0.46214792194100146,\n        \"min\": 1.0,\n        \"max\": 2.45,\n        \"num_unique_values\": 19,\n        \"samples\": [\n          1.0,\n          1.11,\n          2.2\n        ],\n        \"semantic_type\": \"\",\n        \"description\": \"\"\n      }\n    },\n    {\n      \"column\": \"South Korea\",\n      \"properties\": {\n        \"dtype\": \"number\",\n        \"std\": 1.2261698078409935,\n        \"min\": 2.05,\n        \"max\": 6.21,\n        \"num_unique_values\": 19,\n        \"samples\": [\n          2.05,\n          2.94,\n          3.76\n        ],\n        \"semantic_type\": \"\",\n        \"description\": \"\"\n      }\n    },\n    {\n      \"column\": \"UK\",\n      \"properties\": {\n        \"dtype\": \"number\",\n        \"std\": 1.4551702539002977,\n        \"min\": 2.82,\n        \"max\": 7.42,\n        \"num_unique_values\": 19,\n        \"samples\": [\n          2.82,\n          3.21,\n          4.13\n        ],\n        \"semantic_type\": \"\",\n        \"description\": \"\"\n      }\n    },\n    {\n      \"column\": \"USA\",\n      \"properties\": {\n        \"dtype\": \"number\",\n        \"std\": 0.6633549322058828,\n        \"min\": 1.06,\n        \"max\": 3.27,\n        \"num_unique_values\": 17,\n        \"samples\": [\n          1.16,\n          1.14,\n          1.23\n        ],\n        \"semantic_type\": \"\",\n        \"description\": \"\"\n      }\n    }\n  ]\n}"
            }
          },
          "metadata": {},
          "execution_count": 94
        }
      ]
    },
    {
      "cell_type": "code",
      "source": [
        "# Gas Prices\n",
        "gas = pd.read_csv(\"gas_prices.csv\")\n",
        "gas\n",
        "\n",
        "plt.figure(figsize=(8,5), dpi=100)\n",
        "plt.title(\"Gas Prices over Time (in USD)\", fontdict={'fontweight':\"bold\", 'fontsize': 20})\n",
        "\n",
        "plt.plot(gas.Year, gas.USA, 'b.-', label=\"USA\")\n",
        "plt.plot(gas.Year, gas.Canada, 'r.-', label=\"Canada\")\n",
        "plt.plot(gas.Year, gas['South Korea'], 'g.-', label=\"South Korea\")\n",
        "plt.plot(gas.Year, gas.Australia, 'y.-', label=\"Australia\")\n",
        "\n",
        "# Another way to select the countries I would want to plot\n",
        "# selected = [\"Australia\", \"USA\"]\n",
        "# for country in selected:\n",
        "#   plt.plot(gas.Year, gas[country], marker=\".\", label=country)\n",
        "\n",
        "# for country in gas:\n",
        "#   if country != \"Year\":\n",
        "#     plt.plot(gas.Year, gas[country], marker=\".\", label=country)\n",
        "\n",
        "print(gas.Year[::2])\n",
        "plt.xticks(gas.Year[::2].tolist()+[2010])\n",
        "\n",
        "plt.xlabel(\"Year\")\n",
        "plt.ylabel(\"USD\")\n",
        "\n",
        "plt.legend()\n",
        "\n",
        "plt.savefig(\"Gas_Prices\", dpi=300)\n",
        "plt.show()"
      ],
      "metadata": {
        "colab": {
          "base_uri": "https://localhost:8080/",
          "height": 686
        },
        "id": "wJ-ehTMzjWGm",
        "outputId": "52f85328-36e9-4e5d-80b3-417965f3cd5a"
      },
      "execution_count": null,
      "outputs": [
        {
          "output_type": "stream",
          "name": "stdout",
          "text": [
            "0     1990\n",
            "2     1992\n",
            "4     1994\n",
            "6     1996\n",
            "8     1998\n",
            "10    2000\n",
            "12    2002\n",
            "14    2004\n",
            "16    2006\n",
            "18    2008\n",
            "Name: Year, dtype: int64\n"
          ]
        },
        {
          "output_type": "display_data",
          "data": {
            "text/plain": [
              "<Figure size 800x500 with 1 Axes>"
            ],
            "image/png": "[encoded data removed]"
          },
          "metadata": {}
        }
      ]
    },
    {
      "cell_type": "code",
      "source": [
        "# FIFA Data\n",
        "fifa = pd.read_csv(\"fifa_data.csv\")\n",
        "# fifa\n",
        "\n",
        "#  HISTOGRAMS\n",
        "bins = [ 40, 50, 60, 70, 80, 90, 100]\n",
        "plt.hist(fifa.Overall, bins = bins, color='red')\n",
        "\n",
        "plt.xticks(bins)\n",
        "plt.yticks(np.arange(0,10000, 1000)) # from 0 to 10k with a step of 1000\n",
        "\n",
        "plt.title(\"Distribution of players skills\")\n",
        "plt.xlabel(\"Overal Skill Level\")\n",
        "plt.ylabel(\"Number of Players\")\n",
        "\n",
        "plt.show()"
      ],
      "metadata": {
        "colab": {
          "base_uri": "https://localhost:8080/",
          "height": 472
        },
        "id": "pjxK5i0iwRQH",
        "outputId": "decfef00-c353-4867-f917-37a0a3eb97db"
      },
      "execution_count": null,
      "outputs": [
        {
          "output_type": "display_data",
          "data": {
            "text/plain": [
              "<Figure size 640x480 with 1 Axes>"
            ],
            "image/png": "[encoded data removed]"
          },
          "metadata": {}
        }
      ]
    },
    {
      "cell_type": "code",
      "source": [
        "# fifa.head()\n",
        "fifa['Preferred Foot']"
      ],
      "metadata": {
        "colab": {
          "base_uri": "https://localhost:8080/",
          "height": 458
        },
        "id": "QG1_WIwiwdXn",
        "outputId": "8ea0e7c9-8209-427f-ffdf-89d7f4cc166f"
      },
      "execution_count": null,
      "outputs": [
        {
          "output_type": "execute_result",
          "data": {
            "text/plain": [
              "0         Left\n",
              "1        Right\n",
              "2        Right\n",
              "3        Right\n",
              "4        Right\n",
              "         ...  \n",
              "18202    Right\n",
              "18203    Right\n",
              "18204    Right\n",
              "18205    Right\n",
              "18206    Right\n",
              "Name: Preferred Foot, Length: 18207, dtype: object"
            ],
            "text/html": [
              "<div>\n",
              "<style scoped>\n",
              "    .dataframe tbody tr th:only-of-type {\n",
              "        vertical-align: middle;\n",
              "    }\n",
              "\n",
              "    .dataframe tbody tr th {\n",
              "        vertical-align: top;\n",
              "    }\n",
              "\n",
              "    .dataframe thead th {\n",
              "        text-align: right;\n",
              "    }\n",
              "</style>\n",
              "<table border=\"1\" class=\"dataframe\">\n",
              "  <thead>\n",
              "    <tr style=\"text-align: right;\">\n",
              "      <th></th>\n",
              "      <th>Preferred Foot</th>\n",
              "    </tr>\n",
              "  </thead>\n",
              "  <tbody>\n",
              "    <tr>\n",
              "      <th>0</th>\n",
              "      <td>Left</td>\n",
              "    </tr>\n",
              "    <tr>\n",
              "      <th>1</th>\n",
              "      <td>Right</td>\n",
              "    </tr>\n",
              "    <tr>\n",
              "      <th>2</th>\n",
              "      <td>Right</td>\n",
              "    </tr>\n",
              "    <tr>\n",
              "      <th>3</th>\n",
              "      <td>Right</td>\n",
              "    </tr>\n",
              "    <tr>\n",
              "      <th>4</th>\n",
              "      <td>Right</td>\n",
              "    </tr>\n",
              "    <tr>\n",
              "      <th>...</th>\n",
              "      <td>...</td>\n",
              "    </tr>\n",
              "    <tr>\n",
              "      <th>18202</th>\n",
              "      <td>Right</td>\n",
              "    </tr>\n",
              "    <tr>\n",
              "      <th>18203</th>\n",
              "      <td>Right</td>\n",
              "    </tr>\n",
              "    <tr>\n",
              "      <th>18204</th>\n",
              "      <td>Right</td>\n",
              "    </tr>\n",
              "    <tr>\n",
              "      <th>18205</th>\n",
              "      <td>Right</td>\n",
              "    </tr>\n",
              "    <tr>\n",
              "      <th>18206</th>\n",
              "      <td>Right</td>\n",
              "    </tr>\n",
              "  </tbody>\n",
              "</table>\n",
              "<p>18207 rows × 1 columns</p>\n",
              "</div><br><label><b>dtype:</b> object</label>"
            ]
          },
          "metadata": {},
          "execution_count": 124
        }
      ]
    },
    {
      "cell_type": "code",
      "source": [
        "# PIE CHARTS\n",
        "left = fifa.loc[fifa['Preferred Foot'] == \"Left\"].count()[0]\n",
        "right = fifa.loc[fifa[\"Preferred Foot\"] == \"Right\"].count()[0]\n",
        "\n",
        "plt.figure(figsize=(8,5), dpi=100)\n",
        "labels = [\"Left\", \"Right\"]\n",
        "colors = [\"blue\", \"red\"]\n",
        "\n",
        "plt.pie([left, right], labels=labels, colors = colors, autopct=\"%.2f%%\")\n",
        "\n",
        "plt.title(\"Players Foot Preferrence\")\n",
        "\n",
        "plt.show()"
      ],
      "metadata": {
        "colab": {
          "base_uri": "https://localhost:8080/",
          "height": 533
        },
        "id": "Sw9Tx-_WzFM4",
        "outputId": "727bf74c-6d82-4527-fbc1-472521e9b7f0"
      },
      "execution_count": null,
      "outputs": [
        {
          "output_type": "stream",
          "name": "stderr",
          "text": [
            "<ipython-input-143-36d89b4c7f6e>:2: FutureWarning: Series.__getitem__ treating keys as positions is deprecated. In a future version, integer keys will always be treated as labels (consistent with DataFrame behavior). To access a value by position, use `ser.iloc[pos]`\n",
            "  left = fifa.loc[fifa['Preferred Foot'] == \"Left\"].count()[0]\n",
            "<ipython-input-143-36d89b4c7f6e>:3: FutureWarning: Series.__getitem__ treating keys as positions is deprecated. In a future version, integer keys will always be treated as labels (consistent with DataFrame behavior). To access a value by position, use `ser.iloc[pos]`\n",
            "  right = fifa.loc[fifa[\"Preferred Foot\"] == \"Right\"].count()[0]\n"
          ]
        },
        {
          "output_type": "display_data",
          "data": {
            "text/plain": [
              "<Figure size 800x500 with 1 Axes>"
            ],
            "image/png": "[encoded data removed]"
          },
          "metadata": {}
        }
      ]
    },
    {
      "cell_type": "code",
      "source": [
        "fifa.Weight = [int(x.strip('lbs')) if type(x)==str else x for x in fifa.Weight]\n",
        "\n",
        "plt.style.use('ggplot') # color scheme\n",
        "\n",
        "light = fifa.loc[fifa.Weight < 125].count()[0]\n",
        "light_medium= fifa.loc[(fifa.Weight >= 125) & (fifa.Weight < 150)].count()[0]\n",
        "medium = fifa.loc[(fifa.Weight >= 150) & (fifa.Weight < 175)].count()[0]\n",
        "medium_heavy = fifa.loc[(fifa.Weight >= 175) & (fifa.Weight < 200)].count()[0]\n",
        "heavy = fifa.loc[fifa.Weight >= 200].count()[0]\n",
        "\n",
        "weights = [light, light_medium, medium, medium_heavy, heavy]\n",
        "labels = [\"Under 125\", \"125-150\", \"150-175\", \"175-200\", \"Over 200\"]\n",
        "explode = (0.4, 0.1, 0.1, 0.1, 0.4)\n",
        "\n",
        "plt.pie(weights, labels=labels, autopct=\"%.2f%%\",  pctdistance=0.8, explode=explode)\n",
        "\n",
        "plt.title(\"Weight distribution of players (in lbs)\")\n",
        "\n",
        "plt.show()"
      ],
      "metadata": {
        "colab": {
          "base_uri": "https://localhost:8080/",
          "height": 623
        },
        "id": "oQ42YlrX27g-",
        "outputId": "a9caa475-877e-41bf-b43b-e1d6d983710d"
      },
      "execution_count": null,
      "outputs": [
        {
          "output_type": "stream",
          "name": "stderr",
          "text": [
            "<ipython-input-173-4272deac6f8a>:5: FutureWarning: Series.__getitem__ treating keys as positions is deprecated. In a future version, integer keys will always be treated as labels (consistent with DataFrame behavior). To access a value by position, use `ser.iloc[pos]`\n",
            "  light = fifa.loc[fifa.Weight < 125].count()[0]\n",
            "<ipython-input-173-4272deac6f8a>:6: FutureWarning: Series.__getitem__ treating keys as positions is deprecated. In a future version, integer keys will always be treated as labels (consistent with DataFrame behavior). To access a value by position, use `ser.iloc[pos]`\n",
            "  light_medium= fifa.loc[(fifa.Weight >= 125) & (fifa.Weight < 150)].count()[0]\n",
            "<ipython-input-173-4272deac6f8a>:7: FutureWarning: Series.__getitem__ treating keys as positions is deprecated. In a future version, integer keys will always be treated as labels (consistent with DataFrame behavior). To access a value by position, use `ser.iloc[pos]`\n",
            "  medium = fifa.loc[(fifa.Weight >= 150) & (fifa.Weight < 175)].count()[0]\n",
            "<ipython-input-173-4272deac6f8a>:8: FutureWarning: Series.__getitem__ treating keys as positions is deprecated. In a future version, integer keys will always be treated as labels (consistent with DataFrame behavior). To access a value by position, use `ser.iloc[pos]`\n",
            "  medium_heavy = fifa.loc[(fifa.Weight >= 175) & (fifa.Weight < 200)].count()[0]\n",
            "<ipython-input-173-4272deac6f8a>:9: FutureWarning: Series.__getitem__ treating keys as positions is deprecated. In a future version, integer keys will always be treated as labels (consistent with DataFrame behavior). To access a value by position, use `ser.iloc[pos]`\n",
            "  heavy = fifa.loc[fifa.Weight >= 200].count()[0]\n"
          ]
        },
        {
          "output_type": "display_data",
          "data": {
            "text/plain": [
              "<Figure size 640x480 with 1 Axes>"
            ],
            "image/png": "[encoded data removed]"
          },
          "metadata": {}
        }
      ]
    },
    {
      "cell_type": "markdown",
      "source": [
        "## **Seaborn**"
      ],
      "metadata": {
        "id": "Eh9dpQA1Ss1v"
      }
    },
    {
      "cell_type": "markdown",
      "source": [
        "# **Scipy**"
      ],
      "metadata": {
        "id": "kOC_iMXuE-IS"
      }
    }
  ],
  "metadata": {
    "colab": {
      "collapsed_sections": [
        "KG4FQ9lLXvTh",
        "Nmen7vG8VZ3F"
      ],
      "provenance": [],
      "toc_visible": true,
      "include_colab_link": true
    },
    "kernelspec": {
      "display_name": "Python 3",
      "name": "python3"
    },
    "language_info": {
      "name": "python"
    }
  },
  "nbformat": 4,
  "nbformat_minor": 0
}